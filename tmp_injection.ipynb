{
 "cells": [
  {
   "cell_type": "code",
   "execution_count": null,
   "id": "initial_id",
   "metadata": {
    "collapsed": true
   },
   "outputs": [],
   "source": [
    "    # Charger les données du fichier JSON\n",
    "    df_airlines = pd.read_json('data/airlines.json')\n",
    "\n",
    "    # Préparer la requête d'insertion\n",
    "    insert_query = \"\"\"\n",
    "    INSERT INTO airline (carrier, name)\n",
    "    VALUES (?, ?)\n",
    "    \"\"\"\n",
    "\n",
    "    # Insérer les données ligne par ligne\n",
    "    for index, row in df_airlines.iterrows():\n",
    "        cursor.execute(insert_query, row['carrier'], row['name'])\n",
    "\n",
    "    # Valider les changements\n",
    "    connection.commit()"
   ]
  },
  {
   "cell_type": "code",
   "execution_count": null,
   "id": "bd950161",
   "metadata": {},
   "outputs": [],
   "source": [
    "\n",
    "    # Lire les données de planes.html\n",
    "    df_planes = pd.read_html('planes.html')[0]\n",
    "\n",
    "    # dans df_plane year est un float 2004.0 le convertir en int 2004\n",
    "    df_planes['year'] = df_planes['year'].fillna(0).astype(int)\n",
    "\n",
    "    # definir le speed à 0 si NaN\n",
    "    df_planes['speed'] = df_planes['speed'].fillna(0)\n",
    "\n",
    "    # Insérer les données dans la table plane\n",
    "    for index, row in df_planes.iterrows():\n",
    "        print(row['year'])\n",
    "        cursor.execute(\"\"\"\n",
    "            INSERT INTO plane (tailnum, year, type, manufacturer, model, engines, seats, speed, engine)\n",
    "            VALUES (?, ?, ?, ?, ?, ?, ?, ?, ?)\n",
    "        \"\"\", row['tailnum'], row['year'], row['type'], row['manufacturer'], row['model'], row['engines'], row['seats'], row['speed'], row['engine'])\n",
    "\n",
    "    # Valider les transactions\n",
    "    connection.commit()"
   ]
  },
  {
   "cell_type": "code",
   "execution_count": null,
   "id": "7840794f",
   "metadata": {},
   "outputs": [],
   "source": [
    "    # Lire le PDF\n",
    "    reader = PdfReader(\"weather.pdf\")\n",
    "    number_of_pages = len(reader.pages)\n",
    "    page = reader.pages[0]\n",
    "    text = page.extract_text()\n",
    "    lines = text.split('\\n')\n",
    "    text_without_first_line = '\\n'.join(lines[1:])\n",
    "\n",
    "    # Préparer les données à insérer\n",
    "    data = [line.split(',') for line in text_without_first_line.split('\\n') if line]\n",
    "\n",
    "    # Définir la requête d'insertion\n",
    "    insert_query = \"\"\"\n",
    "        INSERT INTO weather (origin, year, month, day, hour, temp, dewp, humid, wind_dir, wind_speed, wind_gust, precip, pressure, visib, time_hour)\n",
    "        VALUES (?, ?, ?, ?, ?, ?, ?, ?, ?, ?, ?, ?, ?, ?, ?)\n",
    "    \"\"\"\n",
    "    \n",
    "    # Exécuter la requête d'insertion\n",
    "    for page in range(number_of_pages):\n",
    "            for row in data:\n",
    "                connection.execute(insert_query, row)\n",
    "\n",
    "    connection.commit()\n",
    "    connection.close()"
   ]
  }
 ],
 "metadata": {
  "kernelspec": {
   "display_name": "Python 3",
   "language": "python",
   "name": "python3"
  },
  "language_info": {
   "codemirror_mode": {
    "name": "ipython",
    "version": 2
   },
   "file_extension": ".py",
   "mimetype": "text/x-python",
   "name": "python",
   "nbconvert_exporter": "python",
   "pygments_lexer": "ipython2",
   "version": "3.12.0"
  }
 },
 "nbformat": 4,
 "nbformat_minor": 5
}
