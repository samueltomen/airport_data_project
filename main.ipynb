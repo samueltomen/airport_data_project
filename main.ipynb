{
 "cells": [
  {
   "cell_type": "code",
   "execution_count": 35,
   "id": "initial_id",
   "metadata": {},
   "outputs": [
    {
     "name": "stdout",
     "output_type": "stream",
     "text": [
      "Nombre total d'aéroports : 1458\n",
      "Nombre total de vols : 252704\n",
      "Nombre total de destinations : 103\n",
      "Nombre d'aéroports qui ne passent pas à l'heure d'été : 23\n",
      "Nombre total de fuseaux horaires uniques : 10\n",
      "Fuseaux horaires uniques : ['America/New_York' 'America/Chicago' 'America/Los_Angeles'\n",
      " 'America/Vancouver' 'America/Phoenix' 'America/Anchorage'\n",
      " 'America/Denver' 'Pacific/Honolulu' 'Asia/Chongqing' '\\\\N']\n",
      "Nombre total de compagnies aériennes : 16\n",
      "Liste des compagnies aériennes :\n",
      "   carrier                         name\n",
      "0       9E            Endeavor Air Inc.\n",
      "1       AA       American Airlines Inc.\n",
      "2       AS         Alaska Airlines Inc.\n",
      "3       B6              JetBlue Airways\n",
      "4       DL         Delta Air Lines Inc.\n",
      "5       EV     ExpressJet Airlines Inc.\n",
      "6       F9       Frontier Airlines Inc.\n",
      "7       FL  AirTran Airways Corporation\n",
      "8       HA       Hawaiian Airlines Inc.\n",
      "9       MQ                    Envoy Air\n",
      "10      OO        SkyWest Airlines Inc.\n",
      "11      UA        United Air Lines Inc.\n",
      "12      US              US Airways Inc.\n",
      "13      VX               Virgin America\n",
      "14      WN       Southwest Airlines Co.\n",
      "15      YV           Mesa Airlines Inc.\n",
      "Nombre total d'avions : 3322\n",
      "Nombre total de vols annulés : 0\n",
      "L'aéroport de départ le plus emprunté est EWR avec 91241 départs.\n",
      "Détails de l'aéroport le plus emprunté :\n",
      "     Unnamed: 0  faa                 name      lat        lon  alt  tz dst  \\\n",
      "460         460  EWR  Newark Liberty Intl  40.6925 -74.168667   18  -5   A   \n",
      "\n",
      "                tzone  \n",
      "460  America/New_York  \n",
      "Top 10 des destinations les plus prisées :\n",
      "                                 name  flights  percentage\n",
      "0     Hartsfield Jackson Atlanta Intl    12946    5.122990\n",
      "1                  Chicago Ohare Intl    12654    5.007440\n",
      "2                    Los Angeles Intl    11895    4.707088\n",
      "3  General Edward Lawrence Logan Intl    11560    4.574522\n",
      "4                        Orlando Intl    10637    4.209273\n",
      "5              Charlotte Douglas Intl    10448    4.134481\n",
      "6                  San Francisco Intl     9729    3.849959\n",
      "7      Fort Lauderdale Hollywood Intl     9443    3.736783\n",
      "8                          Miami Intl     8938    3.536944\n",
      "9       Ronald Reagan Washington Natl     7386    2.922787\n",
      "\n",
      "Top 10 des destinations les moins prisées :\n",
      "                          name  flights  percentage\n",
      "102                 Blue Grass        1    0.000396\n",
      "101            South Bend Rgnl        4    0.001583\n",
      "99   Montrose Regional Airport       15    0.005936\n",
      "100               Yampa Valley       15    0.005936\n",
      "98      Cherry Capital Airport       16    0.006332\n",
      "97               Key West Intl       17    0.006727\n",
      "96           Palm Springs Intl       19    0.007519\n",
      "95              Gallatin Field       20    0.007914\n",
      "94        Jackson Hole Airport       25    0.009893\n",
      "93   Charlottesville-Albemarle       31    0.012267\n",
      "Top 10 des avions qui ont le plus décollé :\n",
      "  tailnum          manufacturer            model  flights  percentage\n",
      "0                           NaN              NaN     1973    0.780755\n",
      "1  N725MQ                   NaN              NaN      443    0.175304\n",
      "2  N723MQ                   NaN              NaN      394    0.155914\n",
      "3  N713MQ                   NaN              NaN      385    0.152352\n",
      "4  N722MQ                   NaN              NaN      378    0.149582\n",
      "5  N711MQ  GULFSTREAM AEROSPACE           G1159B      376    0.148791\n",
      "6  N258JB               EMBRAER  ERJ 190-100 IGW      332    0.131379\n",
      "7  N353JB               EMBRAER  ERJ 190-100 IGW      316    0.125047\n",
      "8  N542MQ                   NaN              NaN      310    0.122673\n",
      "9  N351JB               EMBRAER  ERJ 190-100 IGW      310    0.122673\n",
      "\n",
      "Top 10 des avions qui ont le moins décollé :\n",
      "     tailnum       manufacturer     model  flights  percentage\n",
      "3982  N352NB             AIRBUS  A319-114        1    0.000396\n",
      "3870  N921DN  MCDONNELL DOUGLAS  MD-90-30        1    0.000396\n",
      "3869  N521SW             BOEING   737-5H4        1    0.000396\n",
      "3868  N838AW             AIRBUS  A319-132        1    0.000396\n",
      "3867  N78003             BOEING   777-224        1    0.000396\n",
      "3866  N653UA             BOEING   767-322        1    0.000396\n",
      "3865  N586AS             BOEING   737-890        1    0.000396\n",
      "3864  N757AT             BOEING   757-212        1    0.000396\n",
      "3863  N631AW   AIRBUS INDUSTRIE  A320-231        1    0.000396\n",
      "3862  N7CAAA                NaN       NaN        1    0.000396\n",
      "Nombre de destinations desservies par chaque compagnie aérienne :\n",
      "                           name  unique_destinations\n",
      "0             Endeavor Air Inc.                   47\n",
      "1        American Airlines Inc.                   19\n",
      "2          Alaska Airlines Inc.                    1\n",
      "3               JetBlue Airways                   42\n",
      "4          Delta Air Lines Inc.                   40\n",
      "5      ExpressJet Airlines Inc.                   61\n",
      "6        Frontier Airlines Inc.                    1\n",
      "7   AirTran Airways Corporation                    3\n",
      "8        Hawaiian Airlines Inc.                    1\n",
      "9                     Envoy Air                   20\n",
      "10        SkyWest Airlines Inc.                    4\n",
      "11        United Air Lines Inc.                   45\n",
      "12              US Airways Inc.                    5\n",
      "13               Virgin America                    5\n",
      "14       Southwest Airlines Co.                   11\n",
      "15           Mesa Airlines Inc.                    3\n",
      "Nombre de destinations desservies par chaque compagnie aérienne et chaque aéroport d'origine :\n",
      "                   airline_name  origin_airport_name  unique_destinations\n",
      "0   AirTran Airways Corporation           La Guardia                    3\n",
      "1          Alaska Airlines Inc.  Newark Liberty Intl                    1\n",
      "2        American Airlines Inc.  Newark Liberty Intl                    3\n",
      "3        American Airlines Inc.  John F Kennedy Intl                   17\n",
      "4        American Airlines Inc.           La Guardia                    5\n",
      "5          Delta Air Lines Inc.  Newark Liberty Intl                    4\n",
      "6          Delta Air Lines Inc.  John F Kennedy Intl                   29\n",
      "7          Delta Air Lines Inc.           La Guardia                   22\n",
      "8             Endeavor Air Inc.  Newark Liberty Intl                    4\n",
      "9             Endeavor Air Inc.  John F Kennedy Intl                   34\n",
      "10            Endeavor Air Inc.           La Guardia                   36\n",
      "11                    Envoy Air  Newark Liberty Intl                    1\n",
      "12                    Envoy Air  John F Kennedy Intl                   11\n",
      "13                    Envoy Air           La Guardia                   12\n",
      "14     ExpressJet Airlines Inc.  Newark Liberty Intl                   53\n",
      "15     ExpressJet Airlines Inc.  John F Kennedy Intl                    3\n",
      "16     ExpressJet Airlines Inc.           La Guardia                   45\n",
      "17       Frontier Airlines Inc.           La Guardia                    1\n",
      "18       Hawaiian Airlines Inc.  John F Kennedy Intl                    1\n",
      "19              JetBlue Airways  Newark Liberty Intl                    7\n",
      "20              JetBlue Airways  John F Kennedy Intl                   42\n",
      "21              JetBlue Airways           La Guardia                    6\n",
      "22           Mesa Airlines Inc.           La Guardia                    3\n",
      "23        SkyWest Airlines Inc.  Newark Liberty Intl                    2\n",
      "24        SkyWest Airlines Inc.           La Guardia                    2\n",
      "25       Southwest Airlines Co.  Newark Liberty Intl                    9\n",
      "26       Southwest Airlines Co.           La Guardia                    8\n",
      "27              US Airways Inc.  Newark Liberty Intl                    2\n",
      "28              US Airways Inc.  John F Kennedy Intl                    3\n",
      "29              US Airways Inc.           La Guardia                    4\n",
      "30        United Air Lines Inc.  Newark Liberty Intl                   45\n",
      "31        United Air Lines Inc.  John F Kennedy Intl                    2\n",
      "32        United Air Lines Inc.           La Guardia                    4\n",
      "33               Virgin America  Newark Liberty Intl                    2\n",
      "34               Virgin America  John F Kennedy Intl                    5\n"
     ]
    },
    {
     "data": {
      "application/vnd.plotly.v1+json": {
       "config": {
        "plotlyServerURL": "https://plot.ly"
       },
       "data": [
        {
         "alignmentgroup": "True",
         "hovertemplate": "Compagnie aérienne=%{x}<br>Destinations uniques=%{marker.color}<extra></extra>",
         "legendgroup": "",
         "marker": {
          "color": [
           47,
           19,
           1,
           42,
           40,
           61,
           1,
           3,
           1,
           20,
           4,
           45,
           5,
           5,
           11,
           3
          ],
          "coloraxis": "coloraxis",
          "pattern": {
           "shape": ""
          }
         },
         "name": "",
         "offsetgroup": "",
         "orientation": "v",
         "showlegend": false,
         "textposition": "auto",
         "type": "bar",
         "x": [
          "Endeavor Air Inc.",
          "American Airlines Inc.",
          "Alaska Airlines Inc.",
          "JetBlue Airways",
          "Delta Air Lines Inc.",
          "ExpressJet Airlines Inc.",
          "Frontier Airlines Inc.",
          "AirTran Airways Corporation",
          "Hawaiian Airlines Inc.",
          "Envoy Air",
          "SkyWest Airlines Inc.",
          "United Air Lines Inc.",
          "US Airways Inc.",
          "Virgin America",
          "Southwest Airlines Co.",
          "Mesa Airlines Inc."
         ],
         "xaxis": "x",
         "y": [
          47,
          19,
          1,
          42,
          40,
          61,
          1,
          3,
          1,
          20,
          4,
          45,
          5,
          5,
          11,
          3
         ],
         "yaxis": "y"
        }
       ],
       "layout": {
        "autosize": true,
        "barmode": "relative",
        "coloraxis": {
         "colorbar": {
          "title": {
           "text": "Destinations uniques"
          }
         },
         "colorscale": [
          [
           0,
           "#440154"
          ],
          [
           0.1111111111111111,
           "#482878"
          ],
          [
           0.2222222222222222,
           "#3e4989"
          ],
          [
           0.3333333333333333,
           "#31688e"
          ],
          [
           0.4444444444444444,
           "#26828e"
          ],
          [
           0.5555555555555556,
           "#1f9e89"
          ],
          [
           0.6666666666666666,
           "#35b779"
          ],
          [
           0.7777777777777778,
           "#6ece58"
          ],
          [
           0.8888888888888888,
           "#b5de2b"
          ],
          [
           1,
           "#fde725"
          ]
         ]
        },
        "legend": {
         "tracegroupgap": 0
        },
        "template": {
         "data": {
          "bar": [
           {
            "error_x": {
             "color": "#2a3f5f"
            },
            "error_y": {
             "color": "#2a3f5f"
            },
            "marker": {
             "line": {
              "color": "#E5ECF6",
              "width": 0.5
             },
             "pattern": {
              "fillmode": "overlay",
              "size": 10,
              "solidity": 0.2
             }
            },
            "type": "bar"
           }
          ],
          "barpolar": [
           {
            "marker": {
             "line": {
              "color": "#E5ECF6",
              "width": 0.5
             },
             "pattern": {
              "fillmode": "overlay",
              "size": 10,
              "solidity": 0.2
             }
            },
            "type": "barpolar"
           }
          ],
          "carpet": [
           {
            "aaxis": {
             "endlinecolor": "#2a3f5f",
             "gridcolor": "white",
             "linecolor": "white",
             "minorgridcolor": "white",
             "startlinecolor": "#2a3f5f"
            },
            "baxis": {
             "endlinecolor": "#2a3f5f",
             "gridcolor": "white",
             "linecolor": "white",
             "minorgridcolor": "white",
             "startlinecolor": "#2a3f5f"
            },
            "type": "carpet"
           }
          ],
          "choropleth": [
           {
            "colorbar": {
             "outlinewidth": 0,
             "ticks": ""
            },
            "type": "choropleth"
           }
          ],
          "contour": [
           {
            "colorbar": {
             "outlinewidth": 0,
             "ticks": ""
            },
            "colorscale": [
             [
              0,
              "#0d0887"
             ],
             [
              0.1111111111111111,
              "#46039f"
             ],
             [
              0.2222222222222222,
              "#7201a8"
             ],
             [
              0.3333333333333333,
              "#9c179e"
             ],
             [
              0.4444444444444444,
              "#bd3786"
             ],
             [
              0.5555555555555556,
              "#d8576b"
             ],
             [
              0.6666666666666666,
              "#ed7953"
             ],
             [
              0.7777777777777778,
              "#fb9f3a"
             ],
             [
              0.8888888888888888,
              "#fdca26"
             ],
             [
              1,
              "#f0f921"
             ]
            ],
            "type": "contour"
           }
          ],
          "contourcarpet": [
           {
            "colorbar": {
             "outlinewidth": 0,
             "ticks": ""
            },
            "type": "contourcarpet"
           }
          ],
          "heatmap": [
           {
            "colorbar": {
             "outlinewidth": 0,
             "ticks": ""
            },
            "colorscale": [
             [
              0,
              "#0d0887"
             ],
             [
              0.1111111111111111,
              "#46039f"
             ],
             [
              0.2222222222222222,
              "#7201a8"
             ],
             [
              0.3333333333333333,
              "#9c179e"
             ],
             [
              0.4444444444444444,
              "#bd3786"
             ],
             [
              0.5555555555555556,
              "#d8576b"
             ],
             [
              0.6666666666666666,
              "#ed7953"
             ],
             [
              0.7777777777777778,
              "#fb9f3a"
             ],
             [
              0.8888888888888888,
              "#fdca26"
             ],
             [
              1,
              "#f0f921"
             ]
            ],
            "type": "heatmap"
           }
          ],
          "heatmapgl": [
           {
            "colorbar": {
             "outlinewidth": 0,
             "ticks": ""
            },
            "colorscale": [
             [
              0,
              "#0d0887"
             ],
             [
              0.1111111111111111,
              "#46039f"
             ],
             [
              0.2222222222222222,
              "#7201a8"
             ],
             [
              0.3333333333333333,
              "#9c179e"
             ],
             [
              0.4444444444444444,
              "#bd3786"
             ],
             [
              0.5555555555555556,
              "#d8576b"
             ],
             [
              0.6666666666666666,
              "#ed7953"
             ],
             [
              0.7777777777777778,
              "#fb9f3a"
             ],
             [
              0.8888888888888888,
              "#fdca26"
             ],
             [
              1,
              "#f0f921"
             ]
            ],
            "type": "heatmapgl"
           }
          ],
          "histogram": [
           {
            "marker": {
             "pattern": {
              "fillmode": "overlay",
              "size": 10,
              "solidity": 0.2
             }
            },
            "type": "histogram"
           }
          ],
          "histogram2d": [
           {
            "colorbar": {
             "outlinewidth": 0,
             "ticks": ""
            },
            "colorscale": [
             [
              0,
              "#0d0887"
             ],
             [
              0.1111111111111111,
              "#46039f"
             ],
             [
              0.2222222222222222,
              "#7201a8"
             ],
             [
              0.3333333333333333,
              "#9c179e"
             ],
             [
              0.4444444444444444,
              "#bd3786"
             ],
             [
              0.5555555555555556,
              "#d8576b"
             ],
             [
              0.6666666666666666,
              "#ed7953"
             ],
             [
              0.7777777777777778,
              "#fb9f3a"
             ],
             [
              0.8888888888888888,
              "#fdca26"
             ],
             [
              1,
              "#f0f921"
             ]
            ],
            "type": "histogram2d"
           }
          ],
          "histogram2dcontour": [
           {
            "colorbar": {
             "outlinewidth": 0,
             "ticks": ""
            },
            "colorscale": [
             [
              0,
              "#0d0887"
             ],
             [
              0.1111111111111111,
              "#46039f"
             ],
             [
              0.2222222222222222,
              "#7201a8"
             ],
             [
              0.3333333333333333,
              "#9c179e"
             ],
             [
              0.4444444444444444,
              "#bd3786"
             ],
             [
              0.5555555555555556,
              "#d8576b"
             ],
             [
              0.6666666666666666,
              "#ed7953"
             ],
             [
              0.7777777777777778,
              "#fb9f3a"
             ],
             [
              0.8888888888888888,
              "#fdca26"
             ],
             [
              1,
              "#f0f921"
             ]
            ],
            "type": "histogram2dcontour"
           }
          ],
          "mesh3d": [
           {
            "colorbar": {
             "outlinewidth": 0,
             "ticks": ""
            },
            "type": "mesh3d"
           }
          ],
          "parcoords": [
           {
            "line": {
             "colorbar": {
              "outlinewidth": 0,
              "ticks": ""
             }
            },
            "type": "parcoords"
           }
          ],
          "pie": [
           {
            "automargin": true,
            "type": "pie"
           }
          ],
          "scatter": [
           {
            "fillpattern": {
             "fillmode": "overlay",
             "size": 10,
             "solidity": 0.2
            },
            "type": "scatter"
           }
          ],
          "scatter3d": [
           {
            "line": {
             "colorbar": {
              "outlinewidth": 0,
              "ticks": ""
             }
            },
            "marker": {
             "colorbar": {
              "outlinewidth": 0,
              "ticks": ""
             }
            },
            "type": "scatter3d"
           }
          ],
          "scattercarpet": [
           {
            "marker": {
             "colorbar": {
              "outlinewidth": 0,
              "ticks": ""
             }
            },
            "type": "scattercarpet"
           }
          ],
          "scattergeo": [
           {
            "marker": {
             "colorbar": {
              "outlinewidth": 0,
              "ticks": ""
             }
            },
            "type": "scattergeo"
           }
          ],
          "scattergl": [
           {
            "marker": {
             "colorbar": {
              "outlinewidth": 0,
              "ticks": ""
             }
            },
            "type": "scattergl"
           }
          ],
          "scattermapbox": [
           {
            "marker": {
             "colorbar": {
              "outlinewidth": 0,
              "ticks": ""
             }
            },
            "type": "scattermapbox"
           }
          ],
          "scatterpolar": [
           {
            "marker": {
             "colorbar": {
              "outlinewidth": 0,
              "ticks": ""
             }
            },
            "type": "scatterpolar"
           }
          ],
          "scatterpolargl": [
           {
            "marker": {
             "colorbar": {
              "outlinewidth": 0,
              "ticks": ""
             }
            },
            "type": "scatterpolargl"
           }
          ],
          "scatterternary": [
           {
            "marker": {
             "colorbar": {
              "outlinewidth": 0,
              "ticks": ""
             }
            },
            "type": "scatterternary"
           }
          ],
          "surface": [
           {
            "colorbar": {
             "outlinewidth": 0,
             "ticks": ""
            },
            "colorscale": [
             [
              0,
              "#0d0887"
             ],
             [
              0.1111111111111111,
              "#46039f"
             ],
             [
              0.2222222222222222,
              "#7201a8"
             ],
             [
              0.3333333333333333,
              "#9c179e"
             ],
             [
              0.4444444444444444,
              "#bd3786"
             ],
             [
              0.5555555555555556,
              "#d8576b"
             ],
             [
              0.6666666666666666,
              "#ed7953"
             ],
             [
              0.7777777777777778,
              "#fb9f3a"
             ],
             [
              0.8888888888888888,
              "#fdca26"
             ],
             [
              1,
              "#f0f921"
             ]
            ],
            "type": "surface"
           }
          ],
          "table": [
           {
            "cells": {
             "fill": {
              "color": "#EBF0F8"
             },
             "line": {
              "color": "white"
             }
            },
            "header": {
             "fill": {
              "color": "#C8D4E3"
             },
             "line": {
              "color": "white"
             }
            },
            "type": "table"
           }
          ]
         },
         "layout": {
          "annotationdefaults": {
           "arrowcolor": "#2a3f5f",
           "arrowhead": 0,
           "arrowwidth": 1
          },
          "autotypenumbers": "strict",
          "coloraxis": {
           "colorbar": {
            "outlinewidth": 0,
            "ticks": ""
           }
          },
          "colorscale": {
           "diverging": [
            [
             0,
             "#8e0152"
            ],
            [
             0.1,
             "#c51b7d"
            ],
            [
             0.2,
             "#de77ae"
            ],
            [
             0.3,
             "#f1b6da"
            ],
            [
             0.4,
             "#fde0ef"
            ],
            [
             0.5,
             "#f7f7f7"
            ],
            [
             0.6,
             "#e6f5d0"
            ],
            [
             0.7,
             "#b8e186"
            ],
            [
             0.8,
             "#7fbc41"
            ],
            [
             0.9,
             "#4d9221"
            ],
            [
             1,
             "#276419"
            ]
           ],
           "sequential": [
            [
             0,
             "#0d0887"
            ],
            [
             0.1111111111111111,
             "#46039f"
            ],
            [
             0.2222222222222222,
             "#7201a8"
            ],
            [
             0.3333333333333333,
             "#9c179e"
            ],
            [
             0.4444444444444444,
             "#bd3786"
            ],
            [
             0.5555555555555556,
             "#d8576b"
            ],
            [
             0.6666666666666666,
             "#ed7953"
            ],
            [
             0.7777777777777778,
             "#fb9f3a"
            ],
            [
             0.8888888888888888,
             "#fdca26"
            ],
            [
             1,
             "#f0f921"
            ]
           ],
           "sequentialminus": [
            [
             0,
             "#0d0887"
            ],
            [
             0.1111111111111111,
             "#46039f"
            ],
            [
             0.2222222222222222,
             "#7201a8"
            ],
            [
             0.3333333333333333,
             "#9c179e"
            ],
            [
             0.4444444444444444,
             "#bd3786"
            ],
            [
             0.5555555555555556,
             "#d8576b"
            ],
            [
             0.6666666666666666,
             "#ed7953"
            ],
            [
             0.7777777777777778,
             "#fb9f3a"
            ],
            [
             0.8888888888888888,
             "#fdca26"
            ],
            [
             1,
             "#f0f921"
            ]
           ]
          },
          "colorway": [
           "#636efa",
           "#EF553B",
           "#00cc96",
           "#ab63fa",
           "#FFA15A",
           "#19d3f3",
           "#FF6692",
           "#B6E880",
           "#FF97FF",
           "#FECB52"
          ],
          "font": {
           "color": "#2a3f5f"
          },
          "geo": {
           "bgcolor": "white",
           "lakecolor": "white",
           "landcolor": "#E5ECF6",
           "showlakes": true,
           "showland": true,
           "subunitcolor": "white"
          },
          "hoverlabel": {
           "align": "left"
          },
          "hovermode": "closest",
          "mapbox": {
           "style": "light"
          },
          "paper_bgcolor": "white",
          "plot_bgcolor": "#E5ECF6",
          "polar": {
           "angularaxis": {
            "gridcolor": "white",
            "linecolor": "white",
            "ticks": ""
           },
           "bgcolor": "#E5ECF6",
           "radialaxis": {
            "gridcolor": "white",
            "linecolor": "white",
            "ticks": ""
           }
          },
          "scene": {
           "xaxis": {
            "backgroundcolor": "#E5ECF6",
            "gridcolor": "white",
            "gridwidth": 2,
            "linecolor": "white",
            "showbackground": true,
            "ticks": "",
            "zerolinecolor": "white"
           },
           "yaxis": {
            "backgroundcolor": "#E5ECF6",
            "gridcolor": "white",
            "gridwidth": 2,
            "linecolor": "white",
            "showbackground": true,
            "ticks": "",
            "zerolinecolor": "white"
           },
           "zaxis": {
            "backgroundcolor": "#E5ECF6",
            "gridcolor": "white",
            "gridwidth": 2,
            "linecolor": "white",
            "showbackground": true,
            "ticks": "",
            "zerolinecolor": "white"
           }
          },
          "shapedefaults": {
           "line": {
            "color": "#2a3f5f"
           }
          },
          "ternary": {
           "aaxis": {
            "gridcolor": "white",
            "linecolor": "white",
            "ticks": ""
           },
           "baxis": {
            "gridcolor": "white",
            "linecolor": "white",
            "ticks": ""
           },
           "bgcolor": "#E5ECF6",
           "caxis": {
            "gridcolor": "white",
            "linecolor": "white",
            "ticks": ""
           }
          },
          "title": {
           "x": 0.05
          },
          "xaxis": {
           "automargin": true,
           "gridcolor": "white",
           "linecolor": "white",
           "ticks": "",
           "title": {
            "standoff": 15
           },
           "zerolinecolor": "white",
           "zerolinewidth": 2
          },
          "yaxis": {
           "automargin": true,
           "gridcolor": "white",
           "linecolor": "white",
           "ticks": "",
           "title": {
            "standoff": 15
           },
           "zerolinecolor": "white",
           "zerolinewidth": 2
          }
         }
        },
        "title": {
         "text": "Nombre de destinations desservies par chaque compagnie aérienne"
        },
        "xaxis": {
         "anchor": "y",
         "autorange": true,
         "domain": [
          0,
          1
         ],
         "range": [
          -0.5,
          15.5
         ],
         "title": {
          "text": "Compagnie aérienne"
         },
         "type": "category"
        },
        "yaxis": {
         "anchor": "x",
         "autorange": true,
         "domain": [
          0,
          1
         ],
         "range": [
          0,
          64.21052631578948
         ],
         "title": {
          "text": "Destinations uniques"
         },
         "type": "linear"
        }
       }
      },
      "image/png": "[encoded data removed]",
      "text/html": [
       "<div>                            <div id=\"e5908c7c-fe31-42ad-be5b-fdf4f4f3bb30\" class=\"plotly-graph-div\" style=\"height:525px; width:100%;\"></div>            <script type=\"text/javascript\">                require([\"plotly\"], function(Plotly) {                    window.PLOTLYENV=window.PLOTLYENV || {};                                    if (document.getElementById(\"e5908c7c-fe31-42ad-be5b-fdf4f4f3bb30\")) {                    Plotly.newPlot(                        \"e5908c7c-fe31-42ad-be5b-fdf4f4f3bb30\",                        [{\"alignmentgroup\":\"True\",\"hovertemplate\":\"Compagnie a\\u00e9rienne=%{x}\\u003cbr\\u003eDestinations uniques=%{marker.color}\\u003cextra\\u003e\\u003c\\u002fextra\\u003e\",\"legendgroup\":\"\",\"marker\":{\"color\":[47,19,1,42,40,61,1,3,1,20,4,45,5,5,11,3],\"coloraxis\":\"coloraxis\",\"pattern\":{\"shape\":\"\"}},\"name\":\"\",\"offsetgroup\":\"\",\"orientation\":\"v\",\"showlegend\":false,\"textposition\":\"auto\",\"x\":[\"Endeavor Air Inc.\",\"American Airlines Inc.\",\"Alaska Airlines Inc.\",\"JetBlue Airways\",\"Delta Air Lines Inc.\",\"ExpressJet Airlines Inc.\",\"Frontier Airlines Inc.\",\"AirTran Airways Corporation\",\"Hawaiian Airlines Inc.\",\"Envoy Air\",\"SkyWest Airlines Inc.\",\"United Air Lines Inc.\",\"US Airways Inc.\",\"Virgin America\",\"Southwest Airlines Co.\",\"Mesa Airlines Inc.\"],\"xaxis\":\"x\",\"y\":[47,19,1,42,40,61,1,3,1,20,4,45,5,5,11,3],\"yaxis\":\"y\",\"type\":\"bar\"}],                        {\"template\":{\"data\":{\"histogram2dcontour\":[{\"type\":\"histogram2dcontour\",\"colorbar\":{\"outlinewidth\":0,\"ticks\":\"\"},\"colorscale\":[[0.0,\"#0d0887\"],[0.1111111111111111,\"#46039f\"],[0.2222222222222222,\"#7201a8\"],[0.3333333333333333,\"#9c179e\"],[0.4444444444444444,\"#bd3786\"],[0.5555555555555556,\"#d8576b\"],[0.6666666666666666,\"#ed7953\"],[0.7777777777777778,\"#fb9f3a\"],[0.8888888888888888,\"#fdca26\"],[1.0,\"#f0f921\"]]}],\"choropleth\":[{\"type\":\"choropleth\",\"colorbar\":{\"outlinewidth\":0,\"ticks\":\"\"}}],\"histogram2d\":[{\"type\":\"histogram2d\",\"colorbar\":{\"outlinewidth\":0,\"ticks\":\"\"},\"colorscale\":[[0.0,\"#0d0887\"],[0.1111111111111111,\"#46039f\"],[0.2222222222222222,\"#7201a8\"],[0.3333333333333333,\"#9c179e\"],[0.4444444444444444,\"#bd3786\"],[0.5555555555555556,\"#d8576b\"],[0.6666666666666666,\"#ed7953\"],[0.7777777777777778,\"#fb9f3a\"],[0.8888888888888888,\"#fdca26\"],[1.0,\"#f0f921\"]]}],\"heatmap\":[{\"type\":\"heatmap\",\"colorbar\":{\"outlinewidth\":0,\"ticks\":\"\"},\"colorscale\":[[0.0,\"#0d0887\"],[0.1111111111111111,\"#46039f\"],[0.2222222222222222,\"#7201a8\"],[0.3333333333333333,\"#9c179e\"],[0.4444444444444444,\"#bd3786\"],[0.5555555555555556,\"#d8576b\"],[0.6666666666666666,\"#ed7953\"],[0.7777777777777778,\"#fb9f3a\"],[0.8888888888888888,\"#fdca26\"],[1.0,\"#f0f921\"]]}],\"heatmapgl\":[{\"type\":\"heatmapgl\",\"colorbar\":{\"outlinewidth\":0,\"ticks\":\"\"},\"colorscale\":[[0.0,\"#0d0887\"],[0.1111111111111111,\"#46039f\"],[0.2222222222222222,\"#7201a8\"],[0.3333333333333333,\"#9c179e\"],[0.4444444444444444,\"#bd3786\"],[0.5555555555555556,\"#d8576b\"],[0.6666666666666666,\"#ed7953\"],[0.7777777777777778,\"#fb9f3a\"],[0.8888888888888888,\"#fdca26\"],[1.0,\"#f0f921\"]]}],\"contourcarpet\":[{\"type\":\"contourcarpet\",\"colorbar\":{\"outlinewidth\":0,\"ticks\":\"\"}}],\"contour\":[{\"type\":\"contour\",\"colorbar\":{\"outlinewidth\":0,\"ticks\":\"\"},\"colorscale\":[[0.0,\"#0d0887\"],[0.1111111111111111,\"#46039f\"],[0.2222222222222222,\"#7201a8\"],[0.3333333333333333,\"#9c179e\"],[0.4444444444444444,\"#bd3786\"],[0.5555555555555556,\"#d8576b\"],[0.6666666666666666,\"#ed7953\"],[0.7777777777777778,\"#fb9f3a\"],[0.8888888888888888,\"#fdca26\"],[1.0,\"#f0f921\"]]}],\"surface\":[{\"type\":\"surface\",\"colorbar\":{\"outlinewidth\":0,\"ticks\":\"\"},\"colorscale\":[[0.0,\"#0d0887\"],[0.1111111111111111,\"#46039f\"],[0.2222222222222222,\"#7201a8\"],[0.3333333333333333,\"#9c179e\"],[0.4444444444444444,\"#bd3786\"],[0.5555555555555556,\"#d8576b\"],[0.6666666666666666,\"#ed7953\"],[0.7777777777777778,\"#fb9f3a\"],[0.8888888888888888,\"#fdca26\"],[1.0,\"#f0f921\"]]}],\"mesh3d\":[{\"type\":\"mesh3d\",\"colorbar\":{\"outlinewidth\":0,\"ticks\":\"\"}}],\"scatter\":[{\"fillpattern\":{\"fillmode\":\"overlay\",\"size\":10,\"solidity\":0.2},\"type\":\"scatter\"}],\"parcoords\":[{\"type\":\"parcoords\",\"line\":{\"colorbar\":{\"outlinewidth\":0,\"ticks\":\"\"}}}],\"scatterpolargl\":[{\"type\":\"scatterpolargl\",\"marker\":{\"colorbar\":{\"outlinewidth\":0,\"ticks\":\"\"}}}],\"bar\":[{\"error_x\":{\"color\":\"#2a3f5f\"},\"error_y\":{\"color\":\"#2a3f5f\"},\"marker\":{\"line\":{\"color\":\"#E5ECF6\",\"width\":0.5},\"pattern\":{\"fillmode\":\"overlay\",\"size\":10,\"solidity\":0.2}},\"type\":\"bar\"}],\"scattergeo\":[{\"type\":\"scattergeo\",\"marker\":{\"colorbar\":{\"outlinewidth\":0,\"ticks\":\"\"}}}],\"scatterpolar\":[{\"type\":\"scatterpolar\",\"marker\":{\"colorbar\":{\"outlinewidth\":0,\"ticks\":\"\"}}}],\"histogram\":[{\"marker\":{\"pattern\":{\"fillmode\":\"overlay\",\"size\":10,\"solidity\":0.2}},\"type\":\"histogram\"}],\"scattergl\":[{\"type\":\"scattergl\",\"marker\":{\"colorbar\":{\"outlinewidth\":0,\"ticks\":\"\"}}}],\"scatter3d\":[{\"type\":\"scatter3d\",\"line\":{\"colorbar\":{\"outlinewidth\":0,\"ticks\":\"\"}},\"marker\":{\"colorbar\":{\"outlinewidth\":0,\"ticks\":\"\"}}}],\"scattermapbox\":[{\"type\":\"scattermapbox\",\"marker\":{\"colorbar\":{\"outlinewidth\":0,\"ticks\":\"\"}}}],\"scatterternary\":[{\"type\":\"scatterternary\",\"marker\":{\"colorbar\":{\"outlinewidth\":0,\"ticks\":\"\"}}}],\"scattercarpet\":[{\"type\":\"scattercarpet\",\"marker\":{\"colorbar\":{\"outlinewidth\":0,\"ticks\":\"\"}}}],\"carpet\":[{\"aaxis\":{\"endlinecolor\":\"#2a3f5f\",\"gridcolor\":\"white\",\"linecolor\":\"white\",\"minorgridcolor\":\"white\",\"startlinecolor\":\"#2a3f5f\"},\"baxis\":{\"endlinecolor\":\"#2a3f5f\",\"gridcolor\":\"white\",\"linecolor\":\"white\",\"minorgridcolor\":\"white\",\"startlinecolor\":\"#2a3f5f\"},\"type\":\"carpet\"}],\"table\":[{\"cells\":{\"fill\":{\"color\":\"#EBF0F8\"},\"line\":{\"color\":\"white\"}},\"header\":{\"fill\":{\"color\":\"#C8D4E3\"},\"line\":{\"color\":\"white\"}},\"type\":\"table\"}],\"barpolar\":[{\"marker\":{\"line\":{\"color\":\"#E5ECF6\",\"width\":0.5},\"pattern\":{\"fillmode\":\"overlay\",\"size\":10,\"solidity\":0.2}},\"type\":\"barpolar\"}],\"pie\":[{\"automargin\":true,\"type\":\"pie\"}]},\"layout\":{\"autotypenumbers\":\"strict\",\"colorway\":[\"#636efa\",\"#EF553B\",\"#00cc96\",\"#ab63fa\",\"#FFA15A\",\"#19d3f3\",\"#FF6692\",\"#B6E880\",\"#FF97FF\",\"#FECB52\"],\"font\":{\"color\":\"#2a3f5f\"},\"hovermode\":\"closest\",\"hoverlabel\":{\"align\":\"left\"},\"paper_bgcolor\":\"white\",\"plot_bgcolor\":\"#E5ECF6\",\"polar\":{\"bgcolor\":\"#E5ECF6\",\"angularaxis\":{\"gridcolor\":\"white\",\"linecolor\":\"white\",\"ticks\":\"\"},\"radialaxis\":{\"gridcolor\":\"white\",\"linecolor\":\"white\",\"ticks\":\"\"}},\"ternary\":{\"bgcolor\":\"#E5ECF6\",\"aaxis\":{\"gridcolor\":\"white\",\"linecolor\":\"white\",\"ticks\":\"\"},\"baxis\":{\"gridcolor\":\"white\",\"linecolor\":\"white\",\"ticks\":\"\"},\"caxis\":{\"gridcolor\":\"white\",\"linecolor\":\"white\",\"ticks\":\"\"}},\"coloraxis\":{\"colorbar\":{\"outlinewidth\":0,\"ticks\":\"\"}},\"colorscale\":{\"sequential\":[[0.0,\"#0d0887\"],[0.1111111111111111,\"#46039f\"],[0.2222222222222222,\"#7201a8\"],[0.3333333333333333,\"#9c179e\"],[0.4444444444444444,\"#bd3786\"],[0.5555555555555556,\"#d8576b\"],[0.6666666666666666,\"#ed7953\"],[0.7777777777777778,\"#fb9f3a\"],[0.8888888888888888,\"#fdca26\"],[1.0,\"#f0f921\"]],\"sequentialminus\":[[0.0,\"#0d0887\"],[0.1111111111111111,\"#46039f\"],[0.2222222222222222,\"#7201a8\"],[0.3333333333333333,\"#9c179e\"],[0.4444444444444444,\"#bd3786\"],[0.5555555555555556,\"#d8576b\"],[0.6666666666666666,\"#ed7953\"],[0.7777777777777778,\"#fb9f3a\"],[0.8888888888888888,\"#fdca26\"],[1.0,\"#f0f921\"]],\"diverging\":[[0,\"#8e0152\"],[0.1,\"#c51b7d\"],[0.2,\"#de77ae\"],[0.3,\"#f1b6da\"],[0.4,\"#fde0ef\"],[0.5,\"#f7f7f7\"],[0.6,\"#e6f5d0\"],[0.7,\"#b8e186\"],[0.8,\"#7fbc41\"],[0.9,\"#4d9221\"],[1,\"#276419\"]]},\"xaxis\":{\"gridcolor\":\"white\",\"linecolor\":\"white\",\"ticks\":\"\",\"title\":{\"standoff\":15},\"zerolinecolor\":\"white\",\"automargin\":true,\"zerolinewidth\":2},\"yaxis\":{\"gridcolor\":\"white\",\"linecolor\":\"white\",\"ticks\":\"\",\"title\":{\"standoff\":15},\"zerolinecolor\":\"white\",\"automargin\":true,\"zerolinewidth\":2},\"scene\":{\"xaxis\":{\"backgroundcolor\":\"#E5ECF6\",\"gridcolor\":\"white\",\"linecolor\":\"white\",\"showbackground\":true,\"ticks\":\"\",\"zerolinecolor\":\"white\",\"gridwidth\":2},\"yaxis\":{\"backgroundcolor\":\"#E5ECF6\",\"gridcolor\":\"white\",\"linecolor\":\"white\",\"showbackground\":true,\"ticks\":\"\",\"zerolinecolor\":\"white\",\"gridwidth\":2},\"zaxis\":{\"backgroundcolor\":\"#E5ECF6\",\"gridcolor\":\"white\",\"linecolor\":\"white\",\"showbackground\":true,\"ticks\":\"\",\"zerolinecolor\":\"white\",\"gridwidth\":2}},\"shapedefaults\":{\"line\":{\"color\":\"#2a3f5f\"}},\"annotationdefaults\":{\"arrowcolor\":\"#2a3f5f\",\"arrowhead\":0,\"arrowwidth\":1},\"geo\":{\"bgcolor\":\"white\",\"landcolor\":\"#E5ECF6\",\"subunitcolor\":\"white\",\"showland\":true,\"showlakes\":true,\"lakecolor\":\"white\"},\"title\":{\"x\":0.05},\"mapbox\":{\"style\":\"light\"}}},\"xaxis\":{\"anchor\":\"y\",\"domain\":[0.0,1.0],\"title\":{\"text\":\"Compagnie a\\u00e9rienne\"}},\"yaxis\":{\"anchor\":\"x\",\"domain\":[0.0,1.0],\"title\":{\"text\":\"Destinations uniques\"}},\"coloraxis\":{\"colorbar\":{\"title\":{\"text\":\"Destinations uniques\"}},\"colorscale\":[[0.0,\"#440154\"],[0.1111111111111111,\"#482878\"],[0.2222222222222222,\"#3e4989\"],[0.3333333333333333,\"#31688e\"],[0.4444444444444444,\"#26828e\"],[0.5555555555555556,\"#1f9e89\"],[0.6666666666666666,\"#35b779\"],[0.7777777777777778,\"#6ece58\"],[0.8888888888888888,\"#b5de2b\"],[1.0,\"#fde725\"]]},\"legend\":{\"tracegroupgap\":0},\"title\":{\"text\":\"Nombre de destinations desservies par chaque compagnie a\\u00e9rienne\"},\"barmode\":\"relative\"},                        {\"responsive\": true}                    ).then(function(){\n",
       "                            \n",
       "var gd = document.getElementById('e5908c7c-fe31-42ad-be5b-fdf4f4f3bb30');\n",
       "var x = new MutationObserver(function (mutations, observer) {{\n",
       "        var display = window.getComputedStyle(gd).display;\n",
       "        if (!display || display === 'none') {{\n",
       "            console.log([gd, 'removed!']);\n",
       "            Plotly.purge(gd);\n",
       "            observer.disconnect();\n",
       "        }}\n",
       "}});\n",
       "\n",
       "// Listen for the removal of the full notebook cells\n",
       "var notebookContainer = gd.closest('#notebook-container');\n",
       "if (notebookContainer) {{\n",
       "    x.observe(notebookContainer, {childList: true});\n",
       "}}\n",
       "\n",
       "// Listen for the clearing of the current output cell\n",
       "var outputEl = gd.closest('.output');\n",
       "if (outputEl) {{\n",
       "    x.observe(outputEl, {childList: true});\n",
       "}}\n",
       "\n",
       "                        })                };                });            </script>        </div>"
      ]
     },
     "metadata": {},
     "output_type": "display_data"
    },
    {
     "data": {
      "application/vnd.plotly.v1+json": {
       "config": {
        "plotlyServerURL": "https://plot.ly"
       },
       "data": [
        {
         "alignmentgroup": "True",
         "hovertemplate": "origin_airport_name=La Guardia<br>Compagnie aérienne=%{x}<br>Destinations uniques=%{y}<extra></extra>",
         "legendgroup": "La Guardia",
         "marker": {
          "color": "#636efa",
          "pattern": {
           "shape": ""
          }
         },
         "name": "La Guardia",
         "offsetgroup": "La Guardia",
         "orientation": "v",
         "showlegend": true,
         "textposition": "auto",
         "type": "bar",
         "x": [
          "AirTran Airways Corporation",
          "American Airlines Inc.",
          "Delta Air Lines Inc.",
          "Endeavor Air Inc.",
          "Envoy Air",
          "ExpressJet Airlines Inc.",
          "Frontier Airlines Inc.",
          "JetBlue Airways",
          "Mesa Airlines Inc.",
          "SkyWest Airlines Inc.",
          "Southwest Airlines Co.",
          "US Airways Inc.",
          "United Air Lines Inc."
         ],
         "xaxis": "x",
         "y": [
          3,
          5,
          22,
          36,
          12,
          45,
          1,
          6,
          3,
          2,
          8,
          4,
          4
         ],
         "yaxis": "y"
        },
        {
         "alignmentgroup": "True",
         "hovertemplate": "origin_airport_name=Newark Liberty Intl<br>Compagnie aérienne=%{x}<br>Destinations uniques=%{y}<extra></extra>",
         "legendgroup": "Newark Liberty Intl",
         "marker": {
          "color": "#EF553B",
          "pattern": {
           "shape": ""
          }
         },
         "name": "Newark Liberty Intl",
         "offsetgroup": "Newark Liberty Intl",
         "orientation": "v",
         "showlegend": true,
         "textposition": "auto",
         "type": "bar",
         "x": [
          "Alaska Airlines Inc.",
          "American Airlines Inc.",
          "Delta Air Lines Inc.",
          "Endeavor Air Inc.",
          "Envoy Air",
          "ExpressJet Airlines Inc.",
          "JetBlue Airways",
          "SkyWest Airlines Inc.",
          "Southwest Airlines Co.",
          "US Airways Inc.",
          "United Air Lines Inc.",
          "Virgin America"
         ],
         "xaxis": "x",
         "y": [
          1,
          3,
          4,
          4,
          1,
          53,
          7,
          2,
          9,
          2,
          45,
          2
         ],
         "yaxis": "y"
        },
        {
         "alignmentgroup": "True",
         "hovertemplate": "origin_airport_name=John F Kennedy Intl<br>Compagnie aérienne=%{x}<br>Destinations uniques=%{y}<extra></extra>",
         "legendgroup": "John F Kennedy Intl",
         "marker": {
          "color": "#00cc96",
          "pattern": {
           "shape": ""
          }
         },
         "name": "John F Kennedy Intl",
         "offsetgroup": "John F Kennedy Intl",
         "orientation": "v",
         "showlegend": true,
         "textposition": "auto",
         "type": "bar",
         "x": [
          "American Airlines Inc.",
          "Delta Air Lines Inc.",
          "Endeavor Air Inc.",
          "Envoy Air",
          "ExpressJet Airlines Inc.",
          "Hawaiian Airlines Inc.",
          "JetBlue Airways",
          "US Airways Inc.",
          "United Air Lines Inc.",
          "Virgin America"
         ],
         "xaxis": "x",
         "y": [
          17,
          29,
          34,
          11,
          3,
          1,
          42,
          3,
          2,
          5
         ],
         "yaxis": "y"
        }
       ],
       "layout": {
        "autosize": true,
        "barmode": "group",
        "legend": {
         "title": {
          "text": "origin_airport_name"
         },
         "tracegroupgap": 0
        },
        "template": {
         "data": {
          "bar": [
           {
            "error_x": {
             "color": "#2a3f5f"
            },
            "error_y": {
             "color": "#2a3f5f"
            },
            "marker": {
             "line": {
              "color": "#E5ECF6",
              "width": 0.5
             },
             "pattern": {
              "fillmode": "overlay",
              "size": 10,
              "solidity": 0.2
             }
            },
            "type": "bar"
           }
          ],
          "barpolar": [
           {
            "marker": {
             "line": {
              "color": "#E5ECF6",
              "width": 0.5
             },
             "pattern": {
              "fillmode": "overlay",
              "size": 10,
              "solidity": 0.2
             }
            },
            "type": "barpolar"
           }
          ],
          "carpet": [
           {
            "aaxis": {
             "endlinecolor": "#2a3f5f",
             "gridcolor": "white",
             "linecolor": "white",
             "minorgridcolor": "white",
             "startlinecolor": "#2a3f5f"
            },
            "baxis": {
             "endlinecolor": "#2a3f5f",
             "gridcolor": "white",
             "linecolor": "white",
             "minorgridcolor": "white",
             "startlinecolor": "#2a3f5f"
            },
            "type": "carpet"
           }
          ],
          "choropleth": [
           {
            "colorbar": {
             "outlinewidth": 0,
             "ticks": ""
            },
            "type": "choropleth"
           }
          ],
          "contour": [
           {
            "colorbar": {
             "outlinewidth": 0,
             "ticks": ""
            },
            "colorscale": [
             [
              0,
              "#0d0887"
             ],
             [
              0.1111111111111111,
              "#46039f"
             ],
             [
              0.2222222222222222,
              "#7201a8"
             ],
             [
              0.3333333333333333,
              "#9c179e"
             ],
             [
              0.4444444444444444,
              "#bd3786"
             ],
             [
              0.5555555555555556,
              "#d8576b"
             ],
             [
              0.6666666666666666,
              "#ed7953"
             ],
             [
              0.7777777777777778,
              "#fb9f3a"
             ],
             [
              0.8888888888888888,
              "#fdca26"
             ],
             [
              1,
              "#f0f921"
             ]
            ],
            "type": "contour"
           }
          ],
          "contourcarpet": [
           {
            "colorbar": {
             "outlinewidth": 0,
             "ticks": ""
            },
            "type": "contourcarpet"
           }
          ],
          "heatmap": [
           {
            "colorbar": {
             "outlinewidth": 0,
             "ticks": ""
            },
            "colorscale": [
             [
              0,
              "#0d0887"
             ],
             [
              0.1111111111111111,
              "#46039f"
             ],
             [
              0.2222222222222222,
              "#7201a8"
             ],
             [
              0.3333333333333333,
              "#9c179e"
             ],
             [
              0.4444444444444444,
              "#bd3786"
             ],
             [
              0.5555555555555556,
              "#d8576b"
             ],
             [
              0.6666666666666666,
              "#ed7953"
             ],
             [
              0.7777777777777778,
              "#fb9f3a"
             ],
             [
              0.8888888888888888,
              "#fdca26"
             ],
             [
              1,
              "#f0f921"
             ]
            ],
            "type": "heatmap"
           }
          ],
          "heatmapgl": [
           {
            "colorbar": {
             "outlinewidth": 0,
             "ticks": ""
            },
            "colorscale": [
             [
              0,
              "#0d0887"
             ],
             [
              0.1111111111111111,
              "#46039f"
             ],
             [
              0.2222222222222222,
              "#7201a8"
             ],
             [
              0.3333333333333333,
              "#9c179e"
             ],
             [
              0.4444444444444444,
              "#bd3786"
             ],
             [
              0.5555555555555556,
              "#d8576b"
             ],
             [
              0.6666666666666666,
              "#ed7953"
             ],
             [
              0.7777777777777778,
              "#fb9f3a"
             ],
             [
              0.8888888888888888,
              "#fdca26"
             ],
             [
              1,
              "#f0f921"
             ]
            ],
            "type": "heatmapgl"
           }
          ],
          "histogram": [
           {
            "marker": {
             "pattern": {
              "fillmode": "overlay",
              "size": 10,
              "solidity": 0.2
             }
            },
            "type": "histogram"
           }
          ],
          "histogram2d": [
           {
            "colorbar": {
             "outlinewidth": 0,
             "ticks": ""
            },
            "colorscale": [
             [
              0,
              "#0d0887"
             ],
             [
              0.1111111111111111,
              "#46039f"
             ],
             [
              0.2222222222222222,
              "#7201a8"
             ],
             [
              0.3333333333333333,
              "#9c179e"
             ],
             [
              0.4444444444444444,
              "#bd3786"
             ],
             [
              0.5555555555555556,
              "#d8576b"
             ],
             [
              0.6666666666666666,
              "#ed7953"
             ],
             [
              0.7777777777777778,
              "#fb9f3a"
             ],
             [
              0.8888888888888888,
              "#fdca26"
             ],
             [
              1,
              "#f0f921"
             ]
            ],
            "type": "histogram2d"
           }
          ],
          "histogram2dcontour": [
           {
            "colorbar": {
             "outlinewidth": 0,
             "ticks": ""
            },
            "colorscale": [
             [
              0,
              "#0d0887"
             ],
             [
              0.1111111111111111,
              "#46039f"
             ],
             [
              0.2222222222222222,
              "#7201a8"
             ],
             [
              0.3333333333333333,
              "#9c179e"
             ],
             [
              0.4444444444444444,
              "#bd3786"
             ],
             [
              0.5555555555555556,
              "#d8576b"
             ],
             [
              0.6666666666666666,
              "#ed7953"
             ],
             [
              0.7777777777777778,
              "#fb9f3a"
             ],
             [
              0.8888888888888888,
              "#fdca26"
             ],
             [
              1,
              "#f0f921"
             ]
            ],
            "type": "histogram2dcontour"
           }
          ],
          "mesh3d": [
           {
            "colorbar": {
             "outlinewidth": 0,
             "ticks": ""
            },
            "type": "mesh3d"
           }
          ],
          "parcoords": [
           {
            "line": {
             "colorbar": {
              "outlinewidth": 0,
              "ticks": ""
             }
            },
            "type": "parcoords"
           }
          ],
          "pie": [
           {
            "automargin": true,
            "type": "pie"
           }
          ],
          "scatter": [
           {
            "fillpattern": {
             "fillmode": "overlay",
             "size": 10,
             "solidity": 0.2
            },
            "type": "scatter"
           }
          ],
          "scatter3d": [
           {
            "line": {
             "colorbar": {
              "outlinewidth": 0,
              "ticks": ""
             }
            },
            "marker": {
             "colorbar": {
              "outlinewidth": 0,
              "ticks": ""
             }
            },
            "type": "scatter3d"
           }
          ],
          "scattercarpet": [
           {
            "marker": {
             "colorbar": {
              "outlinewidth": 0,
              "ticks": ""
             }
            },
            "type": "scattercarpet"
           }
          ],
          "scattergeo": [
           {
            "marker": {
             "colorbar": {
              "outlinewidth": 0,
              "ticks": ""
             }
            },
            "type": "scattergeo"
           }
          ],
          "scattergl": [
           {
            "marker": {
             "colorbar": {
              "outlinewidth": 0,
              "ticks": ""
             }
            },
            "type": "scattergl"
           }
          ],
          "scattermapbox": [
           {
            "marker": {
             "colorbar": {
              "outlinewidth": 0,
              "ticks": ""
             }
            },
            "type": "scattermapbox"
           }
          ],
          "scatterpolar": [
           {
            "marker": {
             "colorbar": {
              "outlinewidth": 0,
              "ticks": ""
             }
            },
            "type": "scatterpolar"
           }
          ],
          "scatterpolargl": [
           {
            "marker": {
             "colorbar": {
              "outlinewidth": 0,
              "ticks": ""
             }
            },
            "type": "scatterpolargl"
           }
          ],
          "scatterternary": [
           {
            "marker": {
             "colorbar": {
              "outlinewidth": 0,
              "ticks": ""
             }
            },
            "type": "scatterternary"
           }
          ],
          "surface": [
           {
            "colorbar": {
             "outlinewidth": 0,
             "ticks": ""
            },
            "colorscale": [
             [
              0,
              "#0d0887"
             ],
             [
              0.1111111111111111,
              "#46039f"
             ],
             [
              0.2222222222222222,
              "#7201a8"
             ],
             [
              0.3333333333333333,
              "#9c179e"
             ],
             [
              0.4444444444444444,
              "#bd3786"
             ],
             [
              0.5555555555555556,
              "#d8576b"
             ],
             [
              0.6666666666666666,
              "#ed7953"
             ],
             [
              0.7777777777777778,
              "#fb9f3a"
             ],
             [
              0.8888888888888888,
              "#fdca26"
             ],
             [
              1,
              "#f0f921"
             ]
            ],
            "type": "surface"
           }
          ],
          "table": [
           {
            "cells": {
             "fill": {
              "color": "#EBF0F8"
             },
             "line": {
              "color": "white"
             }
            },
            "header": {
             "fill": {
              "color": "#C8D4E3"
             },
             "line": {
              "color": "white"
             }
            },
            "type": "table"
           }
          ]
         },
         "layout": {
          "annotationdefaults": {
           "arrowcolor": "#2a3f5f",
           "arrowhead": 0,
           "arrowwidth": 1
          },
          "autotypenumbers": "strict",
          "coloraxis": {
           "colorbar": {
            "outlinewidth": 0,
            "ticks": ""
           }
          },
          "colorscale": {
           "diverging": [
            [
             0,
             "#8e0152"
            ],
            [
             0.1,
             "#c51b7d"
            ],
            [
             0.2,
             "#de77ae"
            ],
            [
             0.3,
             "#f1b6da"
            ],
            [
             0.4,
             "#fde0ef"
            ],
            [
             0.5,
             "#f7f7f7"
            ],
            [
             0.6,
             "#e6f5d0"
            ],
            [
             0.7,
             "#b8e186"
            ],
            [
             0.8,
             "#7fbc41"
            ],
            [
             0.9,
             "#4d9221"
            ],
            [
             1,
             "#276419"
            ]
           ],
           "sequential": [
            [
             0,
             "#0d0887"
            ],
            [
             0.1111111111111111,
             "#46039f"
            ],
            [
             0.2222222222222222,
             "#7201a8"
            ],
            [
             0.3333333333333333,
             "#9c179e"
            ],
            [
             0.4444444444444444,
             "#bd3786"
            ],
            [
             0.5555555555555556,
             "#d8576b"
            ],
            [
             0.6666666666666666,
             "#ed7953"
            ],
            [
             0.7777777777777778,
             "#fb9f3a"
            ],
            [
             0.8888888888888888,
             "#fdca26"
            ],
            [
             1,
             "#f0f921"
            ]
           ],
           "sequentialminus": [
            [
             0,
             "#0d0887"
            ],
            [
             0.1111111111111111,
             "#46039f"
            ],
            [
             0.2222222222222222,
             "#7201a8"
            ],
            [
             0.3333333333333333,
             "#9c179e"
            ],
            [
             0.4444444444444444,
             "#bd3786"
            ],
            [
             0.5555555555555556,
             "#d8576b"
            ],
            [
             0.6666666666666666,
             "#ed7953"
            ],
            [
             0.7777777777777778,
             "#fb9f3a"
            ],
            [
             0.8888888888888888,
             "#fdca26"
            ],
            [
             1,
             "#f0f921"
            ]
           ]
          },
          "colorway": [
           "#636efa",
           "#EF553B",
           "#00cc96",
           "#ab63fa",
           "#FFA15A",
           "#19d3f3",
           "#FF6692",
           "#B6E880",
           "#FF97FF",
           "#FECB52"
          ],
          "font": {
           "color": "#2a3f5f"
          },
          "geo": {
           "bgcolor": "white",
           "lakecolor": "white",
           "landcolor": "#E5ECF6",
           "showlakes": true,
           "showland": true,
           "subunitcolor": "white"
          },
          "hoverlabel": {
           "align": "left"
          },
          "hovermode": "closest",
          "mapbox": {
           "style": "light"
          },
          "paper_bgcolor": "white",
          "plot_bgcolor": "#E5ECF6",
          "polar": {
           "angularaxis": {
            "gridcolor": "white",
            "linecolor": "white",
            "ticks": ""
           },
           "bgcolor": "#E5ECF6",
           "radialaxis": {
            "gridcolor": "white",
            "linecolor": "white",
            "ticks": ""
           }
          },
          "scene": {
           "xaxis": {
            "backgroundcolor": "#E5ECF6",
            "gridcolor": "white",
            "gridwidth": 2,
            "linecolor": "white",
            "showbackground": true,
            "ticks": "",
            "zerolinecolor": "white"
           },
           "yaxis": {
            "backgroundcolor": "#E5ECF6",
            "gridcolor": "white",
            "gridwidth": 2,
            "linecolor": "white",
            "showbackground": true,
            "ticks": "",
            "zerolinecolor": "white"
           },
           "zaxis": {
            "backgroundcolor": "#E5ECF6",
            "gridcolor": "white",
            "gridwidth": 2,
            "linecolor": "white",
            "showbackground": true,
            "ticks": "",
            "zerolinecolor": "white"
           }
          },
          "shapedefaults": {
           "line": {
            "color": "#2a3f5f"
           }
          },
          "ternary": {
           "aaxis": {
            "gridcolor": "white",
            "linecolor": "white",
            "ticks": ""
           },
           "baxis": {
            "gridcolor": "white",
            "linecolor": "white",
            "ticks": ""
           },
           "bgcolor": "#E5ECF6",
           "caxis": {
            "gridcolor": "white",
            "linecolor": "white",
            "ticks": ""
           }
          },
          "title": {
           "x": 0.05
          },
          "xaxis": {
           "automargin": true,
           "gridcolor": "white",
           "linecolor": "white",
           "ticks": "",
           "title": {
            "standoff": 15
           },
           "zerolinecolor": "white",
           "zerolinewidth": 2
          },
          "yaxis": {
           "automargin": true,
           "gridcolor": "white",
           "linecolor": "white",
           "ticks": "",
           "title": {
            "standoff": 15
           },
           "zerolinecolor": "white",
           "zerolinewidth": 2
          }
         }
        },
        "title": {
         "text": "Nombre de destinations desservies par chaque compagnie aérienne par aéroport d'Origine"
        },
        "xaxis": {
         "anchor": "y",
         "autorange": true,
         "domain": [
          0,
          1
         ],
         "range": [
          -0.5,
          15.5
         ],
         "title": {
          "text": "Compagnie aérienne"
         },
         "type": "category"
        },
        "yaxis": {
         "anchor": "x",
         "autorange": true,
         "domain": [
          0,
          1
         ],
         "range": [
          0,
          55.78947368421053
         ],
         "title": {
          "text": "Destinations uniques"
         },
         "type": "linear"
        }
       }
      },
      "image/png": "[encoded data removed]",
      "text/html": [
       "<div>                            <div id=\"b99c6271-8b40-4893-99d2-0096ebd730fb\" class=\"plotly-graph-div\" style=\"height:525px; width:100%;\"></div>            <script type=\"text/javascript\">                require([\"plotly\"], function(Plotly) {                    window.PLOTLYENV=window.PLOTLYENV || {};                                    if (document.getElementById(\"b99c6271-8b40-4893-99d2-0096ebd730fb\")) {                    Plotly.newPlot(                        \"b99c6271-8b40-4893-99d2-0096ebd730fb\",                        [{\"alignmentgroup\":\"True\",\"hovertemplate\":\"origin_airport_name=La Guardia\\u003cbr\\u003eCompagnie a\\u00e9rienne=%{x}\\u003cbr\\u003eDestinations uniques=%{y}\\u003cextra\\u003e\\u003c\\u002fextra\\u003e\",\"legendgroup\":\"La Guardia\",\"marker\":{\"color\":\"#636efa\",\"pattern\":{\"shape\":\"\"}},\"name\":\"La Guardia\",\"offsetgroup\":\"La Guardia\",\"orientation\":\"v\",\"showlegend\":true,\"textposition\":\"auto\",\"x\":[\"AirTran Airways Corporation\",\"American Airlines Inc.\",\"Delta Air Lines Inc.\",\"Endeavor Air Inc.\",\"Envoy Air\",\"ExpressJet Airlines Inc.\",\"Frontier Airlines Inc.\",\"JetBlue Airways\",\"Mesa Airlines Inc.\",\"SkyWest Airlines Inc.\",\"Southwest Airlines Co.\",\"US Airways Inc.\",\"United Air Lines Inc.\"],\"xaxis\":\"x\",\"y\":[3,5,22,36,12,45,1,6,3,2,8,4,4],\"yaxis\":\"y\",\"type\":\"bar\"},{\"alignmentgroup\":\"True\",\"hovertemplate\":\"origin_airport_name=Newark Liberty Intl\\u003cbr\\u003eCompagnie a\\u00e9rienne=%{x}\\u003cbr\\u003eDestinations uniques=%{y}\\u003cextra\\u003e\\u003c\\u002fextra\\u003e\",\"legendgroup\":\"Newark Liberty Intl\",\"marker\":{\"color\":\"#EF553B\",\"pattern\":{\"shape\":\"\"}},\"name\":\"Newark Liberty Intl\",\"offsetgroup\":\"Newark Liberty Intl\",\"orientation\":\"v\",\"showlegend\":true,\"textposition\":\"auto\",\"x\":[\"Alaska Airlines Inc.\",\"American Airlines Inc.\",\"Delta Air Lines Inc.\",\"Endeavor Air Inc.\",\"Envoy Air\",\"ExpressJet Airlines Inc.\",\"JetBlue Airways\",\"SkyWest Airlines Inc.\",\"Southwest Airlines Co.\",\"US Airways Inc.\",\"United Air Lines Inc.\",\"Virgin America\"],\"xaxis\":\"x\",\"y\":[1,3,4,4,1,53,7,2,9,2,45,2],\"yaxis\":\"y\",\"type\":\"bar\"},{\"alignmentgroup\":\"True\",\"hovertemplate\":\"origin_airport_name=John F Kennedy Intl\\u003cbr\\u003eCompagnie a\\u00e9rienne=%{x}\\u003cbr\\u003eDestinations uniques=%{y}\\u003cextra\\u003e\\u003c\\u002fextra\\u003e\",\"legendgroup\":\"John F Kennedy Intl\",\"marker\":{\"color\":\"#00cc96\",\"pattern\":{\"shape\":\"\"}},\"name\":\"John F Kennedy Intl\",\"offsetgroup\":\"John F Kennedy Intl\",\"orientation\":\"v\",\"showlegend\":true,\"textposition\":\"auto\",\"x\":[\"American Airlines Inc.\",\"Delta Air Lines Inc.\",\"Endeavor Air Inc.\",\"Envoy Air\",\"ExpressJet Airlines Inc.\",\"Hawaiian Airlines Inc.\",\"JetBlue Airways\",\"US Airways Inc.\",\"United Air Lines Inc.\",\"Virgin America\"],\"xaxis\":\"x\",\"y\":[17,29,34,11,3,1,42,3,2,5],\"yaxis\":\"y\",\"type\":\"bar\"}],                        {\"template\":{\"data\":{\"histogram2dcontour\":[{\"type\":\"histogram2dcontour\",\"colorbar\":{\"outlinewidth\":0,\"ticks\":\"\"},\"colorscale\":[[0.0,\"#0d0887\"],[0.1111111111111111,\"#46039f\"],[0.2222222222222222,\"#7201a8\"],[0.3333333333333333,\"#9c179e\"],[0.4444444444444444,\"#bd3786\"],[0.5555555555555556,\"#d8576b\"],[0.6666666666666666,\"#ed7953\"],[0.7777777777777778,\"#fb9f3a\"],[0.8888888888888888,\"#fdca26\"],[1.0,\"#f0f921\"]]}],\"choropleth\":[{\"type\":\"choropleth\",\"colorbar\":{\"outlinewidth\":0,\"ticks\":\"\"}}],\"histogram2d\":[{\"type\":\"histogram2d\",\"colorbar\":{\"outlinewidth\":0,\"ticks\":\"\"},\"colorscale\":[[0.0,\"#0d0887\"],[0.1111111111111111,\"#46039f\"],[0.2222222222222222,\"#7201a8\"],[0.3333333333333333,\"#9c179e\"],[0.4444444444444444,\"#bd3786\"],[0.5555555555555556,\"#d8576b\"],[0.6666666666666666,\"#ed7953\"],[0.7777777777777778,\"#fb9f3a\"],[0.8888888888888888,\"#fdca26\"],[1.0,\"#f0f921\"]]}],\"heatmap\":[{\"type\":\"heatmap\",\"colorbar\":{\"outlinewidth\":0,\"ticks\":\"\"},\"colorscale\":[[0.0,\"#0d0887\"],[0.1111111111111111,\"#46039f\"],[0.2222222222222222,\"#7201a8\"],[0.3333333333333333,\"#9c179e\"],[0.4444444444444444,\"#bd3786\"],[0.5555555555555556,\"#d8576b\"],[0.6666666666666666,\"#ed7953\"],[0.7777777777777778,\"#fb9f3a\"],[0.8888888888888888,\"#fdca26\"],[1.0,\"#f0f921\"]]}],\"heatmapgl\":[{\"type\":\"heatmapgl\",\"colorbar\":{\"outlinewidth\":0,\"ticks\":\"\"},\"colorscale\":[[0.0,\"#0d0887\"],[0.1111111111111111,\"#46039f\"],[0.2222222222222222,\"#7201a8\"],[0.3333333333333333,\"#9c179e\"],[0.4444444444444444,\"#bd3786\"],[0.5555555555555556,\"#d8576b\"],[0.6666666666666666,\"#ed7953\"],[0.7777777777777778,\"#fb9f3a\"],[0.8888888888888888,\"#fdca26\"],[1.0,\"#f0f921\"]]}],\"contourcarpet\":[{\"type\":\"contourcarpet\",\"colorbar\":{\"outlinewidth\":0,\"ticks\":\"\"}}],\"contour\":[{\"type\":\"contour\",\"colorbar\":{\"outlinewidth\":0,\"ticks\":\"\"},\"colorscale\":[[0.0,\"#0d0887\"],[0.1111111111111111,\"#46039f\"],[0.2222222222222222,\"#7201a8\"],[0.3333333333333333,\"#9c179e\"],[0.4444444444444444,\"#bd3786\"],[0.5555555555555556,\"#d8576b\"],[0.6666666666666666,\"#ed7953\"],[0.7777777777777778,\"#fb9f3a\"],[0.8888888888888888,\"#fdca26\"],[1.0,\"#f0f921\"]]}],\"surface\":[{\"type\":\"surface\",\"colorbar\":{\"outlinewidth\":0,\"ticks\":\"\"},\"colorscale\":[[0.0,\"#0d0887\"],[0.1111111111111111,\"#46039f\"],[0.2222222222222222,\"#7201a8\"],[0.3333333333333333,\"#9c179e\"],[0.4444444444444444,\"#bd3786\"],[0.5555555555555556,\"#d8576b\"],[0.6666666666666666,\"#ed7953\"],[0.7777777777777778,\"#fb9f3a\"],[0.8888888888888888,\"#fdca26\"],[1.0,\"#f0f921\"]]}],\"mesh3d\":[{\"type\":\"mesh3d\",\"colorbar\":{\"outlinewidth\":0,\"ticks\":\"\"}}],\"scatter\":[{\"fillpattern\":{\"fillmode\":\"overlay\",\"size\":10,\"solidity\":0.2},\"type\":\"scatter\"}],\"parcoords\":[{\"type\":\"parcoords\",\"line\":{\"colorbar\":{\"outlinewidth\":0,\"ticks\":\"\"}}}],\"scatterpolargl\":[{\"type\":\"scatterpolargl\",\"marker\":{\"colorbar\":{\"outlinewidth\":0,\"ticks\":\"\"}}}],\"bar\":[{\"error_x\":{\"color\":\"#2a3f5f\"},\"error_y\":{\"color\":\"#2a3f5f\"},\"marker\":{\"line\":{\"color\":\"#E5ECF6\",\"width\":0.5},\"pattern\":{\"fillmode\":\"overlay\",\"size\":10,\"solidity\":0.2}},\"type\":\"bar\"}],\"scattergeo\":[{\"type\":\"scattergeo\",\"marker\":{\"colorbar\":{\"outlinewidth\":0,\"ticks\":\"\"}}}],\"scatterpolar\":[{\"type\":\"scatterpolar\",\"marker\":{\"colorbar\":{\"outlinewidth\":0,\"ticks\":\"\"}}}],\"histogram\":[{\"marker\":{\"pattern\":{\"fillmode\":\"overlay\",\"size\":10,\"solidity\":0.2}},\"type\":\"histogram\"}],\"scattergl\":[{\"type\":\"scattergl\",\"marker\":{\"colorbar\":{\"outlinewidth\":0,\"ticks\":\"\"}}}],\"scatter3d\":[{\"type\":\"scatter3d\",\"line\":{\"colorbar\":{\"outlinewidth\":0,\"ticks\":\"\"}},\"marker\":{\"colorbar\":{\"outlinewidth\":0,\"ticks\":\"\"}}}],\"scattermapbox\":[{\"type\":\"scattermapbox\",\"marker\":{\"colorbar\":{\"outlinewidth\":0,\"ticks\":\"\"}}}],\"scatterternary\":[{\"type\":\"scatterternary\",\"marker\":{\"colorbar\":{\"outlinewidth\":0,\"ticks\":\"\"}}}],\"scattercarpet\":[{\"type\":\"scattercarpet\",\"marker\":{\"colorbar\":{\"outlinewidth\":0,\"ticks\":\"\"}}}],\"carpet\":[{\"aaxis\":{\"endlinecolor\":\"#2a3f5f\",\"gridcolor\":\"white\",\"linecolor\":\"white\",\"minorgridcolor\":\"white\",\"startlinecolor\":\"#2a3f5f\"},\"baxis\":{\"endlinecolor\":\"#2a3f5f\",\"gridcolor\":\"white\",\"linecolor\":\"white\",\"minorgridcolor\":\"white\",\"startlinecolor\":\"#2a3f5f\"},\"type\":\"carpet\"}],\"table\":[{\"cells\":{\"fill\":{\"color\":\"#EBF0F8\"},\"line\":{\"color\":\"white\"}},\"header\":{\"fill\":{\"color\":\"#C8D4E3\"},\"line\":{\"color\":\"white\"}},\"type\":\"table\"}],\"barpolar\":[{\"marker\":{\"line\":{\"color\":\"#E5ECF6\",\"width\":0.5},\"pattern\":{\"fillmode\":\"overlay\",\"size\":10,\"solidity\":0.2}},\"type\":\"barpolar\"}],\"pie\":[{\"automargin\":true,\"type\":\"pie\"}]},\"layout\":{\"autotypenumbers\":\"strict\",\"colorway\":[\"#636efa\",\"#EF553B\",\"#00cc96\",\"#ab63fa\",\"#FFA15A\",\"#19d3f3\",\"#FF6692\",\"#B6E880\",\"#FF97FF\",\"#FECB52\"],\"font\":{\"color\":\"#2a3f5f\"},\"hovermode\":\"closest\",\"hoverlabel\":{\"align\":\"left\"},\"paper_bgcolor\":\"white\",\"plot_bgcolor\":\"#E5ECF6\",\"polar\":{\"bgcolor\":\"#E5ECF6\",\"angularaxis\":{\"gridcolor\":\"white\",\"linecolor\":\"white\",\"ticks\":\"\"},\"radialaxis\":{\"gridcolor\":\"white\",\"linecolor\":\"white\",\"ticks\":\"\"}},\"ternary\":{\"bgcolor\":\"#E5ECF6\",\"aaxis\":{\"gridcolor\":\"white\",\"linecolor\":\"white\",\"ticks\":\"\"},\"baxis\":{\"gridcolor\":\"white\",\"linecolor\":\"white\",\"ticks\":\"\"},\"caxis\":{\"gridcolor\":\"white\",\"linecolor\":\"white\",\"ticks\":\"\"}},\"coloraxis\":{\"colorbar\":{\"outlinewidth\":0,\"ticks\":\"\"}},\"colorscale\":{\"sequential\":[[0.0,\"#0d0887\"],[0.1111111111111111,\"#46039f\"],[0.2222222222222222,\"#7201a8\"],[0.3333333333333333,\"#9c179e\"],[0.4444444444444444,\"#bd3786\"],[0.5555555555555556,\"#d8576b\"],[0.6666666666666666,\"#ed7953\"],[0.7777777777777778,\"#fb9f3a\"],[0.8888888888888888,\"#fdca26\"],[1.0,\"#f0f921\"]],\"sequentialminus\":[[0.0,\"#0d0887\"],[0.1111111111111111,\"#46039f\"],[0.2222222222222222,\"#7201a8\"],[0.3333333333333333,\"#9c179e\"],[0.4444444444444444,\"#bd3786\"],[0.5555555555555556,\"#d8576b\"],[0.6666666666666666,\"#ed7953\"],[0.7777777777777778,\"#fb9f3a\"],[0.8888888888888888,\"#fdca26\"],[1.0,\"#f0f921\"]],\"diverging\":[[0,\"#8e0152\"],[0.1,\"#c51b7d\"],[0.2,\"#de77ae\"],[0.3,\"#f1b6da\"],[0.4,\"#fde0ef\"],[0.5,\"#f7f7f7\"],[0.6,\"#e6f5d0\"],[0.7,\"#b8e186\"],[0.8,\"#7fbc41\"],[0.9,\"#4d9221\"],[1,\"#276419\"]]},\"xaxis\":{\"gridcolor\":\"white\",\"linecolor\":\"white\",\"ticks\":\"\",\"title\":{\"standoff\":15},\"zerolinecolor\":\"white\",\"automargin\":true,\"zerolinewidth\":2},\"yaxis\":{\"gridcolor\":\"white\",\"linecolor\":\"white\",\"ticks\":\"\",\"title\":{\"standoff\":15},\"zerolinecolor\":\"white\",\"automargin\":true,\"zerolinewidth\":2},\"scene\":{\"xaxis\":{\"backgroundcolor\":\"#E5ECF6\",\"gridcolor\":\"white\",\"linecolor\":\"white\",\"showbackground\":true,\"ticks\":\"\",\"zerolinecolor\":\"white\",\"gridwidth\":2},\"yaxis\":{\"backgroundcolor\":\"#E5ECF6\",\"gridcolor\":\"white\",\"linecolor\":\"white\",\"showbackground\":true,\"ticks\":\"\",\"zerolinecolor\":\"white\",\"gridwidth\":2},\"zaxis\":{\"backgroundcolor\":\"#E5ECF6\",\"gridcolor\":\"white\",\"linecolor\":\"white\",\"showbackground\":true,\"ticks\":\"\",\"zerolinecolor\":\"white\",\"gridwidth\":2}},\"shapedefaults\":{\"line\":{\"color\":\"#2a3f5f\"}},\"annotationdefaults\":{\"arrowcolor\":\"#2a3f5f\",\"arrowhead\":0,\"arrowwidth\":1},\"geo\":{\"bgcolor\":\"white\",\"landcolor\":\"#E5ECF6\",\"subunitcolor\":\"white\",\"showland\":true,\"showlakes\":true,\"lakecolor\":\"white\"},\"title\":{\"x\":0.05},\"mapbox\":{\"style\":\"light\"}}},\"xaxis\":{\"anchor\":\"y\",\"domain\":[0.0,1.0],\"title\":{\"text\":\"Compagnie a\\u00e9rienne\"}},\"yaxis\":{\"anchor\":\"x\",\"domain\":[0.0,1.0],\"title\":{\"text\":\"Destinations uniques\"}},\"legend\":{\"title\":{\"text\":\"origin_airport_name\"},\"tracegroupgap\":0},\"title\":{\"text\":\"Nombre de destinations desservies par chaque compagnie a\\u00e9rienne par a\\u00e9roport d'Origine\"},\"barmode\":\"group\"},                        {\"responsive\": true}                    ).then(function(){\n",
       "                            \n",
       "var gd = document.getElementById('b99c6271-8b40-4893-99d2-0096ebd730fb');\n",
       "var x = new MutationObserver(function (mutations, observer) {{\n",
       "        var display = window.getComputedStyle(gd).display;\n",
       "        if (!display || display === 'none') {{\n",
       "            console.log([gd, 'removed!']);\n",
       "            Plotly.purge(gd);\n",
       "            observer.disconnect();\n",
       "        }}\n",
       "}});\n",
       "\n",
       "// Listen for the removal of the full notebook cells\n",
       "var notebookContainer = gd.closest('#notebook-container');\n",
       "if (notebookContainer) {{\n",
       "    x.observe(notebookContainer, {childList: true});\n",
       "}}\n",
       "\n",
       "// Listen for the clearing of the current output cell\n",
       "var outputEl = gd.closest('.output');\n",
       "if (outputEl) {{\n",
       "    x.observe(outputEl, {childList: true});\n",
       "}}\n",
       "\n",
       "                        })                };                });            </script>        </div>"
      ]
     },
     "metadata": {},
     "output_type": "display_data"
    },
    {
     "name": "stdout",
     "output_type": "stream",
     "text": [
      "    year month day dep_time sched_dep_time dep_delay arr_time sched_arr_time  \\\n",
      "0   2021     1   1      517            515         2      830            819   \n",
      "1   2021     1   1      533            529         4      850            830   \n",
      "32  2021     1   1      623            627        -4      933            932   \n",
      "81  2021     1   1      728            732        -4     1041           1038   \n",
      "89  2021     1   1      739            739         0     1104           1038   \n",
      "\n",
      "   arr_delay carrier flight tailnum origin dest air_time distance hour minute  \\\n",
      "0         11      UA   1545  N14228    EWR  IAH      227     1400    5     15   \n",
      "1         20      UA   1714  N24211    LGA  IAH      227     1416    5     29   \n",
      "32         1      UA    496  N459UA    LGA  IAH      229     1416    6     27   \n",
      "81         3      UA    473  N488UA    LGA  IAH      238     1416    7     32   \n",
      "89        26      UA   1479  N37408    EWR  IAH      249     1400    7     39   \n",
      "\n",
      "               time_hour  \n",
      "0   2021-01-01T05:00:00Z  \n",
      "1   2021-01-01T05:00:00Z  \n",
      "32  2021-01-01T06:00:00Z  \n",
      "81  2021-01-01T07:00:00Z  \n",
      "89  2021-01-01T07:00:00Z  \n",
      "Nombre de vols vers Houston par compagnie aérienne :\n",
      "  carrier_code  number_of_flights                    name\n",
      "0           UA               5254   United Air Lines Inc.\n",
      "1           WN                985  Southwest Airlines Co.\n",
      "2           B6                535         JetBlue Airways\n",
      "3           AA                184  American Airlines Inc.\n",
      "Nombre total de vols partant des aéroports de NYC vers Seattle : 2736\n",
      "Nombre de compagnies aériennes desservant Seattle depuis NYC : 5\n",
      "Liste des compagnies aériennes desservant Seattle depuis NYC :\n",
      "  carrier                    name\n",
      "0      AS    Alaska Airlines Inc.\n",
      "1      DL    Delta Air Lines Inc.\n",
      "2      UA   United Air Lines Inc.\n",
      "3      B6         JetBlue Airways\n",
      "4      AA  American Airlines Inc.\n",
      "Nombre d'avions uniques ayant effectué les vols NYC -> Seattle : 857\n",
      "Nombre de vols par destination :\n",
      "                                   name  number_of_flights\n",
      "0       Hartsfield Jackson Atlanta Intl              12946\n",
      "1                    Chicago Ohare Intl              12654\n",
      "2                      Los Angeles Intl              11895\n",
      "3    General Edward Lawrence Logan Intl              11560\n",
      "4                          Orlando Intl              10637\n",
      "..                                  ...                ...\n",
      "98               Cherry Capital Airport                 16\n",
      "99            Montrose Regional Airport                 15\n",
      "100                        Yampa Valley                 15\n",
      "101                     South Bend Rgnl                  4\n",
      "102                          Blue Grass                  1\n",
      "\n",
      "[103 rows x 2 columns]\n",
      "Vols triés par destination, origine et compagnie aérienne :\n",
      "                            dest_name          origin_name  \\\n",
      "288     Akron Canton Regional Airport           La Guardia   \n",
      "759     Akron Canton Regional Airport           La Guardia   \n",
      "1195    Akron Canton Regional Airport           La Guardia   \n",
      "1691    Akron Canton Regional Airport           La Guardia   \n",
      "2126    Akron Canton Regional Airport           La Guardia   \n",
      "...                               ...                  ...   \n",
      "251666                            NaN  Newark Liberty Intl   \n",
      "251842                            NaN  Newark Liberty Intl   \n",
      "252247                            NaN  Newark Liberty Intl   \n",
      "252285                            NaN  Newark Liberty Intl   \n",
      "252619                            NaN  Newark Liberty Intl   \n",
      "\n",
      "                       airline_name flight  \n",
      "288     AirTran Airways Corporation    353  \n",
      "759     AirTran Airways Corporation    354  \n",
      "1195    AirTran Airways Corporation    353  \n",
      "1691    AirTran Airways Corporation    354  \n",
      "2126    AirTran Airways Corporation    353  \n",
      "...                             ...    ...  \n",
      "251666        United Air Lines Inc.   1216  \n",
      "251842        United Air Lines Inc.   1708  \n",
      "252247        United Air Lines Inc.   1212  \n",
      "252285        United Air Lines Inc.   1071  \n",
      "252619        United Air Lines Inc.   1216  \n",
      "\n",
      "[252704 rows x 4 columns]\n"
     ]
    }
   ],
   "source": [
    "import pandas as pd;\n",
    "import plotly.express as px;\n",
    "\n",
    "# ================================ QUESTION 1 ==============================================\n",
    "\n",
    "# 1.\tMission : Se familiariser avec les données\n",
    "\n",
    "# Dictionnaire pour stocker les chemins des différents fichiers\n",
    "path = {\n",
    "    'airports': './data/airports.xlsx',\n",
    "    'flights': './data/flights.xlsx',\n",
    "    'planes': './data/planes.html'\n",
    "}\n",
    "\n",
    "# ---------- aéroports -------------\n",
    "# Charger les données des aéroports\n",
    "airports_dataframe = pd.read_excel(path['airports'])\n",
    "\n",
    "# Afficher le nombre total d'aéroports\n",
    "number_airports = len(airports_dataframe)\n",
    "print(f\"Nombre total d'aéroports : {number_airports}\")\n",
    "\n",
    "# ---------- départs de vols -------------\n",
    "# Charger les données des vols\n",
    "flights_dataframe = pd.read_excel(path['flights'])\n",
    "\n",
    "# Afficher le nombre total de vols\n",
    "number_flights = len(flights_dataframe)\n",
    "print(f\"Nombre total de vols : {number_flights}\")\n",
    "# -----traitement des champs string en champs en colonne------\n",
    "\n",
    "# Séparation avec virgule comme séparateur\n",
    "flights_dataframe = flights_dataframe['year,month,day,dep_time,sched_dep_time,dep_delay,arr_time,sched_arr_time,arr_delay,carrier,flight,tailnum,origin,dest,air_time,distance,hour,minute,time_hour'].str.split(',', expand=True)\n",
    "\n",
    "# champs renommés pour le format colonnes après la séparation\n",
    "flights_dataframe.columns = ['year', 'month', 'day', 'dep_time', 'sched_dep_time', 'dep_delay', 'arr_time', 'sched_arr_time', 'arr_delay', 'carrier', 'flight', 'tailnum', 'origin', 'dest', 'air_time', 'distance', 'hour', 'minute', 'time_hour']\n",
    "\n",
    "# ---------- destinations des vols -------------\n",
    "# Afficher le nombre de destinations uniques\n",
    "number_destinations = flights_dataframe['dest'].nunique()\n",
    "print(f\"Nombre total de destinations : {number_destinations}\")\n",
    "\n",
    "\n",
    "# ---------- aéroports ne passant pas à l'heure d'été -------------\n",
    "# Filtrer les aéroports où la colonne 'dst' est égale à 'N'\n",
    "airports_no_dst = airports_dataframe[airports_dataframe['dst'] == 'N']\n",
    "\n",
    "# Afficher le nombre d'aéroports qui ne passent pas à l'heure d'été\n",
    "number_no_dst = len(airports_no_dst)\n",
    "print(f\"Nombre d'aéroports qui ne passent pas à l'heure d'été : {number_no_dst}\")\n",
    "\n",
    "# ---------- Fuseaux horaires -------------\n",
    "# Afficher le nombre de fuseaux horaires uniques dans la colonne 'tzone'\n",
    "number_timezones = airports_dataframe['tzone'].nunique()\n",
    "print(f\"Nombre total de fuseaux horaires uniques : {number_timezones}\")\n",
    "\n",
    "# Afficher la liste des fuseaux horaires uniques\n",
    "unique_timezones = airports_dataframe['tzone'].unique()\n",
    "print(f\"Fuseaux horaires uniques : {unique_timezones}\")\n",
    "\n",
    "\n",
    "# ---------- compagnies aériennes -------------\n",
    "# Charger les données des compagnies aériennes à partir du fichier JSON\n",
    "airlines_dataframe = pd.read_json('./data/airlines.json')\n",
    "\n",
    "# Afficher le nombre total de compagnies aériennes\n",
    "number_airlines = len(airlines_dataframe)\n",
    "print(f\"Nombre total de compagnies aériennes : {number_airlines}\")\n",
    "\n",
    "# Afficher la liste des compagnies aériennes avec leurs noms\n",
    "print(\"Liste des compagnies aériennes :\")\n",
    "print(airlines_dataframe)\n",
    "\n",
    "# ---------- avions -------------\n",
    "# Charger les données des avions à partir du fichier HTML\n",
    "planes_dataframe = pd.read_html(path['planes'])[0]\n",
    "\n",
    "# Afficher le nombre total d'avions (en se basant sur la colonne 'tailnum')\n",
    "number_planes = planes_dataframe['tailnum'].nunique()\n",
    "print(f\"Nombre total d'avions : {number_planes}\")\n",
    "\n",
    "# ---------- vols annulés -------------\n",
    "# Vérifier les vols annulés : si 'dep_time' ou 'arr_time' est vide (NaN)\n",
    "flights_annules = flights_dataframe[(flights_dataframe['dep_time'].isna()) | (flights_dataframe['arr_time'].isna())]\n",
    "\n",
    "# Compter le nombre total de vols annulés\n",
    "number_flights_annules = len(flights_annules)\n",
    "print(f\"Nombre total de vols annulés : {number_flights_annules}\")\n",
    "\n",
    "\n",
    "# ================================ QUESTION 2 ==============================================\n",
    "\n",
    "# 2.\tQuel est l’aéroport de départ le plus emprunté ? \n",
    "\n",
    "# ---------- aéroport le plus emprunté -------------\n",
    "# Compter les occurrences de chaque aéroport dans la colonne 'origin'\n",
    "most_common_airports = flights_dataframe['origin'].value_counts()\n",
    "\n",
    "# Identifier l'aéroport de départ le plus emprunté\n",
    "most_frequent_origin = most_common_airports.idxmax()\n",
    "most_frequent_origin_count = most_common_airports.max()\n",
    "\n",
    "print(f\"L'aéroport de départ le plus emprunté est {most_frequent_origin} avec {most_frequent_origin_count} départs.\")\n",
    "\n",
    "# Informations sur cet aéroport à l'aide d'une jointure\n",
    "# Chercher dans le fichier des aéroports les informations correspondant à 'most_frequent_origin'\n",
    "airport_details = airports_dataframe[airports_dataframe['faa'] == most_frequent_origin]\n",
    "print(f\"Détails de l'aéroport le plus emprunté :\\n{airport_details}\")\n",
    "\n",
    "# --------- top 10 aéroport plus fréquenté et moins fréquenté -----------\n",
    "# a. Compter le nombre de vols pour chaque destination\n",
    "destination_counts = flights_dataframe['dest'].value_counts()\n",
    "\n",
    "# b. Calculer le pourcentage de chaque destination par rapport au nombre total de vols\n",
    "total_flights = len(flights_dataframe)\n",
    "destination_percentages = (destination_counts / total_flights) * 100\n",
    "\n",
    "# c. Créer un DataFrame temporaire avec le code de la destination, le nombre de vols et le pourcentage\n",
    "destination_stats = pd.DataFrame({\n",
    "    'dest': destination_counts.index,\n",
    "    'flights': destination_counts.values,\n",
    "    'percentage': destination_percentages.values\n",
    "})\n",
    "\n",
    "# d. Joindre avec airports_dataframe pour obtenir les noms complets des destinations\n",
    "destination_stats_with_names = destination_stats.merge(\n",
    "    airports_dataframe[['faa', 'name']], \n",
    "    left_on='dest', \n",
    "    right_on='faa',\n",
    "    how='left'\n",
    ")\n",
    "\n",
    "# sélectionner les colonnes pertinentes pour l'affichage\n",
    "destination_stats_with_names = destination_stats_with_names[['name', 'flights', 'percentage']]\n",
    "\n",
    "# Trier les destinations par ordre décroissant pour trouver les 10 plus prisées\n",
    "top_10_destinations = destination_stats_with_names.sort_values(by='flights', ascending=False).head(10)\n",
    "\n",
    "# Trier les destinations par ordre croissant pour trouver les 10 moins prisées\n",
    "bottom_10_destinations = destination_stats_with_names.sort_values(by='flights', ascending=True).head(10)\n",
    "\n",
    "# Afficher les résultats\n",
    "print(\"Top 10 des destinations les plus prisées :\")\n",
    "print(top_10_destinations)\n",
    "\n",
    "print(\"\\nTop 10 des destinations les moins prisées :\")\n",
    "print(bottom_10_destinations)\n",
    "\n",
    "# ---------------Top des avions ayant le plus et le moins décollé-----------------------\n",
    "# a. Compter le nombre de vols pour chaque avion (tailnum)\n",
    "plane_counts = flights_dataframe['tailnum'].value_counts()\n",
    "\n",
    "# b. Calculer le pourcentage de chaque avion par rapport au nombre total de vols\n",
    "total_flights = len(flights_dataframe)\n",
    "plane_percentages = (plane_counts / total_flights) * 100\n",
    "\n",
    "# c. Créer un DataFrame temporaire avec le numéro de l'avion, le nombre de vols et le pourcentage\n",
    "plane_stats = pd.DataFrame({\n",
    "    'tailnum': plane_counts.index,\n",
    "    'flights': plane_counts.values,\n",
    "    'percentage': plane_percentages.values\n",
    "})\n",
    "\n",
    "# d. Joindre avec planes_dataframe pour obtenir les détails des avions\n",
    "plane_stats_with_details = plane_stats.merge(\n",
    "    planes_dataframe[['tailnum', 'manufacturer', 'model']], \n",
    "    left_on='tailnum', \n",
    "    right_on='tailnum',\n",
    "    how='left'\n",
    ")\n",
    "\n",
    "# sélectionner les colonnes pertinentes pour l'affichage\n",
    "plane_stats_with_details = plane_stats_with_details[['tailnum', 'manufacturer', 'model', 'flights', 'percentage']]\n",
    "\n",
    "# Trier les avions par ordre décroissant pour trouver les 10 avions les plus décollés\n",
    "top_10_planes = plane_stats_with_details.sort_values(by='flights', ascending=False).head(10)\n",
    "\n",
    "# Trier les avions par ordre croissant pour trouver les 10 avions les moins décollés\n",
    "bottom_10_planes = plane_stats_with_details.sort_values(by='flights', ascending=True).head(10)\n",
    "\n",
    "# Afficher les résultats\n",
    "print(\"Top 10 des avions qui ont le plus décollé :\")\n",
    "print(top_10_planes)\n",
    "\n",
    "print(\"\\nTop 10 des avions qui ont le moins décollé :\")\n",
    "print(bottom_10_planes)\n",
    "\n",
    "# ================================ QUESTION 3 ==============================================\n",
    "\n",
    "# ---------- Destinations desservies par chaque compagnie aérienne -------------\n",
    "# Associer chaque vol à sa compagnie aérienne (via le champ 'carrier')\n",
    "# Groupement par compagnie aérienne ('carrier') et comptage des destinations uniques\n",
    "company_destination_counts = flights_dataframe.groupby('carrier')['dest'].nunique()\n",
    "\n",
    "# Joindre les résultats avec les noms des compagnies aériennes à partir du fichier airlines_dataframe\n",
    "# Créer un DataFrame pour associer le nombre de destinations avec le nom des compagnies\n",
    "company_destination_stats = pd.DataFrame({\n",
    "    'carrier': company_destination_counts.index,\n",
    "    'unique_destinations': company_destination_counts.values\n",
    "})\n",
    "\n",
    "# Joindre avec le dataframe des compagnies aériennes pour obtenir le nom complet\n",
    "company_destination_stats_with_names = company_destination_stats.merge(\n",
    "    airlines_dataframe,  # Dataframe contenant les noms des compagnies aériennes\n",
    "    left_on='carrier',\n",
    "    right_on='carrier',\n",
    "    how='left'\n",
    ")\n",
    "\n",
    "# Sélectionner les colonnes pertinentes : nom de la compagnie et le nombre de destinations uniques\n",
    "company_destination_stats_with_names = company_destination_stats_with_names[['name', 'unique_destinations']]\n",
    "\n",
    "# Afficher les résultats\n",
    "print(\"Nombre de destinations desservies par chaque compagnie aérienne :\")\n",
    "print(company_destination_stats_with_names)\n",
    "\n",
    "\n",
    "# ---------- Combien de destinations desservies par chaque compagnie aérienne depuis chaque aéroport d'origine ------------- \n",
    "\n",
    "# Étape 1 : Associer les données des vols avec les noms des compagnies aériennes et les aéroports\n",
    "# Joindre le dataframe des vols avec le dataframe des compagnies aériennes pour obtenir les noms des compagnies\n",
    "flights_with_airlines = flights_dataframe.merge(\n",
    "    airlines_dataframe,  # Dataframe contenant les noms des compagnies aériennes\n",
    "    left_on='carrier',\n",
    "    right_on='carrier',\n",
    "    how='left'\n",
    ")\n",
    "\n",
    "# Étape 2 : Calculer les destinations uniques par compagnie aérienne et par aéroport d'origine\n",
    "# Groupement par compagnie aérienne ('carrier') et aéroport d'origine ('origin') pour compter les destinations uniques ('dest')\n",
    "company_origin_destination_counts = flights_with_airlines.groupby(['name', 'origin'])['dest'].nunique().reset_index()\n",
    "\n",
    "# Renommer les colonnes pour plus de clarté\n",
    "company_origin_destination_counts.columns = ['airline_name', 'origin_airport', 'unique_destinations']\n",
    "\n",
    "# Étape 3 : Joindre avec le dataframe des aéroports pour obtenir les noms complets des aéroports d'origine\n",
    "company_origin_destination_with_airports = company_origin_destination_counts.merge(\n",
    "    airports_dataframe[['faa', 'name']],  # Dataframe contenant les informations sur les aéroports\n",
    "    left_on='origin_airport',\n",
    "    right_on='faa',\n",
    "    how='left'\n",
    ")\n",
    "\n",
    "# Sélectionner les colonnes pertinentes pour l'affichage\n",
    "company_origin_destination_with_airports = company_origin_destination_with_airports[['airline_name', 'name', 'unique_destinations']]\n",
    "\n",
    "# Renommer les colonnes pour plus de clarté\n",
    "company_origin_destination_with_airports.columns = ['airline_name', 'origin_airport_name', 'unique_destinations']\n",
    "\n",
    "# Étape 4 : Afficher les résultats\n",
    "print(\"Nombre de destinations desservies par chaque compagnie aérienne et chaque aéroport d'origine :\")\n",
    "print(company_origin_destination_with_airports)\n",
    "\n",
    "# -----------Réaliser les graphiques adéquats qui synthétisent ces informations-------------\n",
    "# Graphique 1: Destinations desservies par chaque compagnie aérienne\n",
    "fig1 = px.bar(company_destination_stats_with_names,\n",
    "               x='name',\n",
    "               y='unique_destinations',\n",
    "               title='Nombre de destinations desservies par chaque compagnie aérienne',\n",
    "               labels={'name': 'Compagnie aérienne', 'unique_destinations': 'Destinations uniques'},\n",
    "               color='unique_destinations',\n",
    "               color_continuous_scale=px.colors.sequential.Viridis)\n",
    "\n",
    "# Afficher le graphique\n",
    "fig1.show()\n",
    "\n",
    "# Graphique 2: Destinations desservies par chaque compagnie aérienne depuis chaque aéroport d'origine\n",
    "fig2 = px.bar(company_origin_destination_with_airports,\n",
    "               x='airline_name',\n",
    "               y='unique_destinations',\n",
    "               color='origin_airport_name',\n",
    "               title='Nombre de destinations desservies par chaque compagnie aérienne par aéroport d\\'Origine',\n",
    "               labels={'airline_name': 'Compagnie aérienne', 'unique_destinations': 'Destinations uniques'},\n",
    "               barmode='group')\n",
    "\n",
    "# Afficher le graphique\n",
    "fig2.show()\n",
    "\n",
    "\n",
    "# ================================ QUESTION 4 ==============================================\n",
    "\n",
    "\n",
    "# Trouver tous les vols ayant atterri à Houston (IAH ou HOU) ?\n",
    "\n",
    "# Filtrer les vols dont la destination est soit IAH (George Bush Intercontinental) soit HOU (William P. Hobby)\n",
    "houston_flights = flights_dataframe[flights_dataframe['dest'].isin(['IAH', 'HOU'])]\n",
    "\n",
    "# Afficher les premiers résultats pour vérifier la filtration\n",
    "print(houston_flights.head())\n",
    "\n",
    "# Compter les vols par compagnie aérienne pour Houston\n",
    "houston_airlines_stats = houston_flights['carrier'].value_counts()\n",
    "\n",
    "# Convertir la série en DataFrame et renommer les colonnes\n",
    "houston_airlines_stats_df = houston_airlines_stats.reset_index()\n",
    "houston_airlines_stats_df.columns = ['carrier_code', 'number_of_flights']\n",
    "\n",
    "# Joindre avec le nom des compagnies aériennes pour un affichage plus lisible\n",
    "houston_airlines_stats_with_names = houston_airlines_stats_df.merge(\n",
    "    airlines_dataframe,\n",
    "    left_on='carrier_code',\n",
    "    right_on='carrier',\n",
    "    how='left'\n",
    ")\n",
    "\n",
    "# Renommer les colonnes pour plus de clarté\n",
    "houston_airlines_stats_with_names = houston_airlines_stats_with_names[['carrier_code', 'number_of_flights', 'name']]\n",
    "\n",
    "# Afficher les résultats\n",
    "print(\"Nombre de vols vers Houston par compagnie aérienne :\")\n",
    "print(houston_airlines_stats_with_names)\n",
    "\n",
    "\n",
    "\n",
    "# ---------- Filtrer les vols entre NYC et Seattle (SEA) -------------\n",
    "# Liste des aéroports de NYC\n",
    "nyc_airports = ['JFK', 'LGA', 'EWR']\n",
    "\n",
    "# Filtrer les vols avec origin à NYC et dest à SEA (Seattle)\n",
    "nyc_to_seattle_flights = flights_dataframe[(flights_dataframe['origin'].isin(nyc_airports)) & (flights_dataframe['dest'] == 'SEA')]\n",
    "\n",
    "# ---------- 1. Nombre total de vols NYC -> Seattle -------------\n",
    "number_nyc_to_seattle_flights = len(nyc_to_seattle_flights)\n",
    "print(f\"Nombre total de vols partant des aéroports de NYC vers Seattle : {number_nyc_to_seattle_flights}\")\n",
    "\n",
    "# ---------- 2. Nombre de compagnies desservant Seattle depuis NYC -------------\n",
    "# Utiliser la colonne 'carrier' pour compter les compagnies aériennes distinctes\n",
    "number_of_airlines_nyc_to_seattle = nyc_to_seattle_flights['carrier'].nunique()\n",
    "print(f\"Nombre de compagnies aériennes desservant Seattle depuis NYC : {number_of_airlines_nyc_to_seattle}\")\n",
    "\n",
    "# Joindre avec le dataframe des compagnies aériennes pour afficher les noms des compagnies\n",
    "airlines_serving_seattle = nyc_to_seattle_flights[['carrier']].drop_duplicates().merge(\n",
    "    airlines_dataframe, \n",
    "    on='carrier', \n",
    "    how='left'\n",
    ")\n",
    "\n",
    "# Afficher la liste des compagnies aériennes\n",
    "print(\"Liste des compagnies aériennes desservant Seattle depuis NYC :\")\n",
    "print(airlines_serving_seattle[['carrier', 'name']])\n",
    "\n",
    "# ---------- 3. Nombre d'avions uniques ayant effectué ces vols -------------\n",
    "# Utiliser la colonne 'tailnum' pour compter les avions distincts\n",
    "number_of_unique_planes_nyc_to_seattle = nyc_to_seattle_flights['tailnum'].nunique()\n",
    "print(f\"Nombre d'avions uniques ayant effectué les vols NYC -> Seattle : {number_of_unique_planes_nyc_to_seattle}\")\n",
    "\n",
    "# # Joindre avec le dataframe des avions pour obtenir plus de détails sur ces avions\n",
    "# unique_planes_details = nyc_to_seattle_flights[['tailnum']].drop_duplicates().merge(\n",
    "#     planes_dataframe,\n",
    "#     on='tailnum',\n",
    "#     how='left'\n",
    "# )\n",
    "\n",
    "# # Afficher les détails des avions utilisés pour ces vols\n",
    "# print(\"Détails des avions utilisés pour les vols NYC -> Seattle :\")\n",
    "# print(unique_planes_details[['tailnum', 'manufacturer', 'model']])\n",
    "\n",
    "\n",
    "# ================================ QUESTION 5 ==============================================\n",
    "\n",
    "# ------------ Étape 1 : Nombre de vols par destination ---------------------\n",
    "# Compter le nombre de vols par destination\n",
    "flights_per_destination = flights_dataframe['dest'].value_counts().reset_index()\n",
    "flights_per_destination.columns = ['dest', 'number_of_flights']\n",
    "\n",
    "# Joindre avec le dataframe des aéroports pour obtenir les noms des destinations\n",
    "flights_per_destination_with_names = flights_per_destination.merge(\n",
    "    airports_dataframe[['faa', 'name']],\n",
    "    left_on='dest',\n",
    "    right_on='faa',\n",
    "    how='left'\n",
    ")\n",
    "\n",
    "# Sélectionner les colonnes pertinentes\n",
    "flights_per_destination_with_names = flights_per_destination_with_names[['name', 'number_of_flights']]\n",
    "\n",
    "# Afficher les résultats\n",
    "print(\"Nombre de vols par destination :\")\n",
    "print(flights_per_destination_with_names)\n",
    "\n",
    "# -------------------------- Étape 2 : Trier les vols par destination, origine, compagnie --------------------------\n",
    "\n",
    "# Joindre flights_dataframe avec airports_dataframe pour obtenir les noms des aéroports d'origine et de destination\n",
    "flights_with_airports = flights_dataframe.merge(\n",
    "    airports_dataframe[['faa', 'name']],\n",
    "    left_on='origin',\n",
    "    right_on='faa',\n",
    "    how='left'\n",
    ").rename(columns={'name': 'origin_name'})  # Renommer la colonne pour ne pas confondre avec la destination\n",
    "\n",
    "flights_with_airports = flights_with_airports.merge(\n",
    "    airports_dataframe[['faa', 'name']],\n",
    "    left_on='dest',\n",
    "    right_on='faa',\n",
    "    how='left'\n",
    ").rename(columns={'name': 'dest_name'})  # Renommer pour ne pas confondre avec l'origine\n",
    "\n",
    "# Joindre avec airlines_dataframe pour obtenir le nom complet des compagnies aériennes\n",
    "flights_with_airports_and_airlines = flights_with_airports.merge(\n",
    "    airlines_dataframe[['carrier', 'name']],\n",
    "    left_on='carrier',\n",
    "    right_on='carrier',\n",
    "    how='left'\n",
    ").rename(columns={'name': 'airline_name'})\n",
    "\n",
    "# Trier les données par destination, origine, et compagnie aérienne\n",
    "flights_sorted = flights_with_airports_and_airlines.sort_values(\n",
    "    by=['dest_name', 'origin_name', 'airline_name']\n",
    ")\n",
    "\n",
    "# Sélectionner les colonnes pertinentes pour l'affichage\n",
    "flights_sorted = flights_sorted[['dest_name', 'origin_name', 'airline_name', 'flight']]\n",
    "\n",
    "# Afficher les résultats triés\n",
    "print(\"Vols triés par destination, origine et compagnie aérienne :\")\n",
    "print(flights_sorted)\n",
    "\n"
   ]
  },
  {
   "cell_type": "code",
   "execution_count": null,
   "id": "c205f874-bc2c-45df-b4fc-66952f3df615",
   "metadata": {},
   "outputs": [],
   "source": []
  }
 ],
 "metadata": {
  "kernelspec": {
   "display_name": "Python 3 (ipykernel)",
   "language": "python",
   "name": "python3"
  },
  "language_info": {
   "codemirror_mode": {
    "name": "ipython",
    "version": 3
   },
   "file_extension": ".py",
   "mimetype": "text/x-python",
   "name": "python",
   "nbconvert_exporter": "python",
   "pygments_lexer": "ipython3",
   "version": "3.12.4"
  }
 },
 "nbformat": 4,
 "nbformat_minor": 5
}
