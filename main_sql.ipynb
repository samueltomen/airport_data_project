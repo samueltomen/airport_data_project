{
 "cells": [
  {
   "cell_type": "code",
   "execution_count": null,
   "metadata": {
    "vscode": {
     "languageId": "plaintext"
    }
   },
   "outputs": [],
   "source": [
    "\n",
    "\n",
    "-- 1. Nombre total d'aéroports\n",
    "SELECT COUNT(*) AS number_airports\n",
    "FROM airports;\n",
    "\n",
    "-- 2. Nombre total de vols\n",
    "SELECT COUNT(*) AS number_flights\n",
    "FROM flights;\n",
    "\n",
    "-- 3. Nombre total de destinations uniques\n",
    "SELECT COUNT(DISTINCT dest) AS number_destinations\n",
    "FROM flights;\n",
    "\n",
    "-- 4. Nombre d'aéroports qui ne passent pas à l'heure d'été\n",
    "SELECT COUNT(*) AS number_no_dst_airports\n",
    "FROM airports\n",
    "WHERE dst = 'N';\n",
    "\n",
    "-- 5. Nombre total de fuseaux horaires uniques\n",
    "SELECT COUNT(DISTINCT tzone) AS number_timezones\n",
    "FROM airports;\n",
    "\n",
    "-- 6. Nombre total de compagnies aériennes\n",
    "SELECT COUNT(*) AS number_airlines\n",
    "FROM airlines;\n",
    "\n",
    "-- 7. Nombre total d'avions\n",
    "SELECT COUNT(DISTINCT tailnum) AS number_planes\n",
    "FROM planes;\n",
    "\n",
    "-- 8. Nombre total de vols annulés (vols avec dep_time ou arr_time NULL)\n",
    "SELECT COUNT(*) AS number_flights_annules\n",
    "FROM flights\n",
    "WHERE dep_time IS NULL OR arr_time IS NULL;\n"
   ]
  }
 ],
 "metadata": {
  "language_info": {
   "name": "python"
  }
 },
 "nbformat": 4,
 "nbformat_minor": 2
}
